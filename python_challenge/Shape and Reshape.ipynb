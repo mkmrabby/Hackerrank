{
 "cells": [
  {
   "cell_type": "markdown",
   "metadata": {},
   "source": [
    "# Shape and Reshape"
   ]
  },
  {
   "cell_type": "markdown",
   "metadata": {},
   "source": [
    "The shape tool gives a tuple of array dimensions and can be used to change the dimensions of an array.\n",
    "\n",
    "## (a). Using shape to get array dimensions\n",
    "\n",
    "import numpy\n",
    "\n",
    "my__1D_array = numpy.array([1, 2, 3, 4, 5])\n",
    "print my_1D_array.shape     #(5,) -> 5 rows and 0 columns\n",
    "\n",
    "my__2D_array = numpy.array([[1, 2],[3, 4],[6,5]])\n",
    "print my_2D_array.shape     #(3, 2) -> 3 rows and 2 columns \n",
    "\n",
    "## (b). Using shape to change array dimensions\n",
    "\n",
    "import numpy\n",
    "\n",
    "change_array = numpy.array([1,2,3,4,5,6])\n",
    "\n",
    "change_array.shape = (3, 2)\n",
    "\n",
    "print change_array      \n",
    "\n",
    "## Output\n",
    "\n",
    "[[1 2]\n",
    "\n",
    "[3 4]\n",
    "\n",
    "[5 6]]\n",
    "\n",
    "## reshape\n",
    "\n",
    "The reshape tool gives a new shape to an array without changing its data. It creates a new array and does not modify the original array itself.\n",
    "\n",
    "import numpy\n",
    "\n",
    "my_array = numpy.array([1,2,3,4,5,6])\n",
    "\n",
    "print numpy.reshape(my_array,(3,2))\n",
    "\n",
    "## Output\n",
    "\n",
    "[[1 2]\n",
    "\n",
    "[3 4]\n",
    "\n",
    "[5 6]]\n",
    "\n",
    "## Task\n",
    "\n",
    "You are given a space separated list of nine integers. Your task is to convert this list into a 3 X 3 NumPy array.\n",
    "\n",
    "## Input Format\n",
    "\n",
    "A single line of input containing  space separated integers.\n",
    "\n",
    "## Output Format\n",
    "\n",
    "Print the 3 X 3 NumPy array.\n",
    "\n",
    "## Sample Input\n",
    "\n",
    "1 2 3 4 5 6 7 8 9\n",
    "\n",
    "## Sample Output\n",
    "\n",
    "[[1 2 3]\n",
    "\n",
    " [4 5 6]\n",
    " \n",
    " [7 8 9]]"
   ]
  },
  {
   "cell_type": "code",
   "execution_count": null,
   "metadata": {},
   "outputs": [],
   "source": [
    "# python 2\n",
    "\n",
    "from __future__ import print_function\n",
    "import numpy as np\n",
    "\n",
    "print(np.array(raw_input().split(),int).reshape(3,3))"
   ]
  },
  {
   "cell_type": "code",
   "execution_count": null,
   "metadata": {},
   "outputs": [],
   "source": [
    "# python 3\n",
    "\n",
    "import numpy as np\n",
    "\n",
    "print (np.reshape(np.array(input().split(),int),(3,3)))"
   ]
  }
 ],
 "metadata": {
  "kernelspec": {
   "display_name": "Python 3",
   "language": "python",
   "name": "python3"
  },
  "language_info": {
   "codemirror_mode": {
    "name": "ipython",
    "version": 3
   },
   "file_extension": ".py",
   "mimetype": "text/x-python",
   "name": "python",
   "nbconvert_exporter": "python",
   "pygments_lexer": "ipython3",
   "version": "3.6.5"
  }
 },
 "nbformat": 4,
 "nbformat_minor": 2
}
