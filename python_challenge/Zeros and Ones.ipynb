{
 "cells": [
  {
   "cell_type": "markdown",
   "metadata": {},
   "source": [
    "# Zeros and Ones"
   ]
  },
  {
   "cell_type": "markdown",
   "metadata": {},
   "source": [
    "zeros\n",
    "\n",
    "The zeros tool returns a new array with a given shape and type filled with 's.\n",
    "\n",
    "import numpy\n",
    "\n",
    "print numpy.zeros((1,2))                    #Default type is float\n",
    "#Output : [[ 0.  0.]] \n",
    "\n",
    "print numpy.zeros((1,2), dtype = numpy.int) #Type changes to int\n",
    "#Output : [[0 0]]\n",
    "ones\n",
    "\n",
    "The ones tool returns a new array with a given shape and type filled with 's.\n",
    "\n",
    "import numpy\n",
    "\n",
    "print numpy.ones((1,2))                    #Default type is float\n",
    "#Output : [[ 1.  1.]] \n",
    "\n",
    "print numpy.ones((1,2), dtype = numpy.int) #Type changes to int\n",
    "#Output : [[1 1]]   \n",
    "Task\n",
    "\n",
    "You are given the shape of the array in the form of space-separated integers, each integer representing the size of different dimensions, your task is to print an array of the given shape and integer type using the tools numpy.zeros and numpy.ones.\n",
    "\n",
    "Input Format\n",
    "\n",
    "A single line containing the space-separated integers.\n",
    "\n",
    "Constraints\n",
    "\n",
    "\n",
    "Output Format\n",
    "\n",
    "First, print the array using the numpy.zeros tool and then print the array with the numpy.ones tool.\n",
    "\n",
    "Sample Input 0\n",
    "\n",
    "3 3 3\n",
    "Sample Output 0\n",
    "\n",
    "[[[0 0 0]\n",
    "  [0 0 0]\n",
    "  [0 0 0]]\n",
    "\n",
    " [[0 0 0]\n",
    "  [0 0 0]\n",
    "  [0 0 0]]\n",
    "\n",
    " [[0 0 0]\n",
    "  [0 0 0]\n",
    "  [0 0 0]]]\n",
    "[[[1 1 1]\n",
    "  [1 1 1]\n",
    "  [1 1 1]]\n",
    "\n",
    " [[1 1 1]\n",
    "  [1 1 1]\n",
    "  [1 1 1]]\n",
    "\n",
    " [[1 1 1]\n",
    "  [1 1 1]\n",
    "  [1 1 1]]]\n",
    "Explanation 0\n",
    "\n",
    "Print the array built using numpy.zeros and numpy.ones tools and you get the result as shown."
   ]
  },
  {
   "cell_type": "code",
   "execution_count": null,
   "metadata": {},
   "outputs": [],
   "source": [
    "# python 2\n",
    "\n",
    "from __future__ import print_function   \n",
    "import numpy as np\n",
    "\n",
    "number=tuple(map(int,raw_input().split()))\n",
    "print(np.zeros(number,dtype=np.int))\n",
    "print(np.ones(number,dtype=np.int))"
   ]
  },
  {
   "cell_type": "code",
   "execution_count": null,
   "metadata": {},
   "outputs": [],
   "source": [
    "# python 3\n",
    "\n",
    "import numpy as np\n",
    "\n",
    "number=tuple(map(int,input().split()))\n",
    "print(np.zeros(number,dtype=np.int))\n",
    "print(np.ones(number,dtype=np.int))"
   ]
  }
 ],
 "metadata": {
  "kernelspec": {
   "display_name": "Python 2",
   "language": "python",
   "name": "python2"
  },
  "language_info": {
   "codemirror_mode": {
    "name": "ipython",
    "version": 2
   },
   "file_extension": ".py",
   "mimetype": "text/x-python",
   "name": "python",
   "nbconvert_exporter": "python",
   "pygments_lexer": "ipython2",
   "version": "2.7.15"
  }
 },
 "nbformat": 4,
 "nbformat_minor": 2
}
