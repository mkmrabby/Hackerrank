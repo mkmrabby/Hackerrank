{
 "cells": [
  {
   "cell_type": "markdown",
   "metadata": {},
   "source": [
    "# THTML Parser - Part 1"
   ]
  },
  {
   "cell_type": "markdown",
   "metadata": {},
   "source": [
    "HTML\n",
    "Hypertext Markup Language is a standard markup language used for creating World Wide Web pages.\n",
    "\n",
    "Parsing\n",
    "Parsing is the process of syntactic analysis of a string of symbols. It involves resolving a string into its component parts and describing their syntactic roles.\n",
    "\n",
    "HTMLParser\n",
    "An HTMLParser instance is fed HTML data and calls handler methods when start tags, end tags, text, comments, and other markup elements are encountered.\n",
    "\n",
    "Example (based on the original Python documentation):\n",
    "\n",
    ".handle_starttag(tag, attrs)\n",
    "\n",
    "This method is called to handle the start tag of an element. (For example: <div class='marks'>)\n",
    "The tag argument is the name of the tag converted to lowercase.\n",
    "The attrs argument is a list of (name, value) pairs containing the attributes found inside the tag’s <> brackets.\n",
    "\n",
    "\n",
    ".handle_endtag(tag)\n",
    "\n",
    "This method is called to handle the end tag of an element. (For example: </div>)\n",
    "The tag argument is the name of the tag converted to lowercase.\n",
    "\n",
    "\n",
    ".handle_startendtag(tag,attrs)\n",
    "\n",
    "This method is called to handle the empty tag of an element. (For example: <br />)\n",
    "The tag argument is the name of the tag converted to lowercase.\n",
    "The attrs argument is a list of (name, value) pairs containing the attributes found inside the tag’s <> brackets."
   ]
  },
  {
   "cell_type": "markdown",
   "metadata": {},
   "source": [
    "Task:\n",
    "\n",
    "You are given an HTML code snippet of N lines.\n",
    "Your task is to print start tags, end tags and empty tags separately.\n",
    "\n",
    "Here, the -> symbol indicates that the tag contains an attribute. It is immediately followed by the name of the attribute and the attribute value.\n",
    "The > symbol acts as a separator of the attribute and the attribute value.\n",
    "\n",
    "If an HTML tag has no attribute then simply print the name of the tag.\n",
    "If an attribute has no attribute value then simply print the name of the attribute value as None.\n",
    "\n",
    "Note: Do not detect any HTML tag, attribute or attribute value inside the HTML comment tags (<!-- Comments -->).Comments can be multiline as well."
   ]
  },
  {
   "cell_type": "code",
   "execution_count": null,
   "metadata": {},
   "outputs": [],
   "source": [
    "# python 2\n",
    "\n",
    "from __future__ import print_function\n",
    "from HTMLParser import HTMLParser\n",
    "\n",
    "class MyHTMLParser(HTMLParser):\n",
    "    def handle_starttag(self, tag, attrs):        \n",
    "        print ('Start :',tag)\n",
    "        for i in attrs:\n",
    "            print ('->',i[0],'>',i[1])\n",
    "            \n",
    "    def handle_endtag(self, tag):\n",
    "        print ('End   :',tag)\n",
    "        \n",
    "    def handle_startendtag(self, tag, attrs):\n",
    "        print ('Empty :',tag)\n",
    "        for i in attrs:\n",
    "            print ('->',i[0],'>',i[1])\n",
    "            \n",
    "parser = MyHTMLParser()\n",
    "parser.feed(''.join([raw_input().strip() for _ in range(int(raw_input()))]))"
   ]
  },
  {
   "cell_type": "code",
   "execution_count": null,
   "metadata": {},
   "outputs": [],
   "source": [
    "# python 3\n",
    "\n",
    "from html.parser import HTMLParser\n",
    "class MyHTMLParser(HTMLParser):\n",
    "    def handle_starttag(self, tag, attrs):        \n",
    "        print ('Start :',tag)\n",
    "        for ele in attrs:\n",
    "            print ('->',ele[0],'>',ele[1])\n",
    "            \n",
    "    def handle_endtag(self, tag):\n",
    "        print ('End   :',tag)\n",
    "        \n",
    "    def handle_startendtag(self, tag, attrs):\n",
    "        print ('Empty :',tag)\n",
    "        for ele in attrs:\n",
    "            print ('->',ele[0],'>',ele[1])\n",
    "            \n",
    "MyParser = MyHTMLParser()\n",
    "MyParser.feed(''.join([input().strip() for _ in range(int(input()))]))"
   ]
  }
 ],
 "metadata": {
  "kernelspec": {
   "display_name": "Python 2",
   "language": "python",
   "name": "python2"
  },
  "language_info": {
   "codemirror_mode": {
    "name": "ipython",
    "version": 2
   },
   "file_extension": ".py",
   "mimetype": "text/x-python",
   "name": "python",
   "nbconvert_exporter": "python",
   "pygments_lexer": "ipython2",
   "version": "2.7.15"
  }
 },
 "nbformat": 4,
 "nbformat_minor": 2
}
