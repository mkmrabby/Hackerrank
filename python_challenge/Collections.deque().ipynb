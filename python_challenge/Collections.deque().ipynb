{
 "cells": [
  {
   "cell_type": "markdown",
   "metadata": {},
   "source": [
    "# Collections.deque()"
   ]
  },
  {
   "cell_type": "markdown",
   "metadata": {},
   "source": [
    "A deque is a double-ended queue. It can be used to add or remove elements from both ends.\n",
    "\n",
    "Deques support thread safe, memory efficient appends and pops from either side of the deque with approximately the same  O(1)performance in either direction.\n",
    "\n",
    "Click on the link to learn more about deque() methods.\n",
    "Click on the link to learn more about various approaches to working with deques: Deque Recipes.\n",
    "\n",
    ">>> from collections import deque\n",
    ">>> d = deque()\n",
    ">>> d.append(1)\n",
    ">>> print d\n",
    "deque([1])\n",
    "\n",
    ">>> d.appendleft(2)\n",
    ">>> print d\n",
    "deque([2, 1])\n",
    "\n",
    ">>> d.clear()\n",
    ">>> print d\n",
    "deque([])\n",
    "\n",
    ">>> d.extend('1')\n",
    ">>> print d\n",
    "deque(['1'])\n",
    "\n",
    ">>> d.extendleft('234')\n",
    ">>> print d\n",
    "deque(['4', '3', '2', '1'])\n",
    "\n",
    ">>> d.count('1')\n",
    "1\n",
    "\n",
    ">>> d.pop()\n",
    "'1'\n",
    "\n",
    ">>> print d\n",
    "deque(['4', '3', '2'])\n",
    "\n",
    ">>> d.popleft()\n",
    "'4'\n",
    ">>> print d\n",
    "deque(['3', '2'])\n",
    "\n",
    ">>> d.extend('7896')\n",
    ">>> print d\n",
    "deque(['3', '2', '7', '8', '9', '6'])\n",
    "\n",
    ">>> d.remove('2')\n",
    ">>> print d\n",
    "deque(['3', '7', '8', '9', '6'])\n",
    "\n",
    ">>> d.reverse()\n",
    ">>> print d\n",
    "deque(['6', '9', '8', '7', '3'])\n",
    "\n",
    ">>> d.rotate(3)\n",
    ">>> print d\n",
    "deque(['8', '7', '3', '6', '9'])"
   ]
  },
  {
   "cell_type": "code",
   "execution_count": null,
   "metadata": {},
   "outputs": [],
   "source": [
    "# python 2\n",
    "\n",
    "from __future__ import print_function\n",
    "from collections import deque\n",
    "\n",
    "\n",
    "collection_deque=deque()\n",
    "\n",
    "for _ in range(int(raw_input())):\n",
    "    stmt=raw_input().split()\n",
    "    if len(stmt)==2:\n",
    "        getattr(collection_deque, stmt[0])(int(stmt[1]))\n",
    "    else:\n",
    "        getattr(collection_deque, stmt[0])()\n",
    "print(' '.join(map(str,collection_deque)))"
   ]
  },
  {
   "cell_type": "code",
   "execution_count": null,
   "metadata": {},
   "outputs": [],
   "source": [
    "# python 3\n",
    "\n",
    "from collections import deque\n",
    "\n",
    "collection_deque=deque()\n",
    "\n",
    "for _ in range(int(input())):\n",
    "    cmd, *arg = input().split()\n",
    "    getattr(collection_deque, cmd)(*arg)\n",
    "[print(i, end=' ') for i in collection_deque]"
   ]
  }
 ],
 "metadata": {
  "kernelspec": {
   "display_name": "Python 2",
   "language": "python",
   "name": "python2"
  },
  "language_info": {
   "codemirror_mode": {
    "name": "ipython",
    "version": 2
   },
   "file_extension": ".py",
   "mimetype": "text/x-python",
   "name": "python",
   "nbconvert_exporter": "python",
   "pygments_lexer": "ipython2",
   "version": "2.7.15"
  }
 },
 "nbformat": 4,
 "nbformat_minor": 2
}
