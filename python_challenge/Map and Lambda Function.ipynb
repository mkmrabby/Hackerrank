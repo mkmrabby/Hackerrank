{
 "cells": [
  {
   "cell_type": "markdown",
   "metadata": {},
   "source": [
    "# Map and Lambda Function"
   ]
  },
  {
   "cell_type": "markdown",
   "metadata": {},
   "source": [
    "Let's learn some new Python concepts! You have to generate a list of the first  fibonacci numbers,  being the first number. Then, apply the map function and a lambda expression to cube each fibonacci number and print the list.\n",
    "\n",
    "Concept\n",
    "\n",
    "The map() function applies a function to every member of an iterable and returns the result. It takes two parameters: first, the function that is to be applied and secondly, the iterables.\n",
    "Let's say you are given a list of names, and you have to print a list that contains the length of each name.\n",
    "\n",
    ">> print (list(map(len, ['Tina', 'Raj', 'Tom'])))  [4, 3, 3]  \n",
    "\n",
    "Lambda is a single expression anonymous function often used as an inline function. In simple words, it is a function that has only one line in its body. It proves very handy in functional and GUI programming.\n",
    "\n",
    ">> sum = lambda a, b, c: a + b + c\n",
    "\n",
    ">> sum(1, 2, 3)\n",
    "\n",
    "6\n",
    "\n",
    "Note:\n",
    "\n",
    "Lambda functions cannot use the return statement and can only have a single expression. Unlike def, which creates a function and assigns it a name, lambda creates a function and returns the function itself. Lambda can be used inside lists and dictionaries.\n",
    "\n",
    "Input Format\n",
    "\n",
    "One line of input: an integer N.\n",
    "\n",
    "Constraints\n",
    "0 <= N <= 15\n",
    "\n",
    "Output Format\n",
    "\n",
    "A list on a single line containing the cubes of the first N fibonacci numbers.\n",
    "\n",
    "Sample Input\n",
    "\n",
    "5\n",
    "\n",
    "Sample Output\n",
    "\n",
    "[0, 1, 1, 8, 27]\n",
    "\n",
    "Explanation\n",
    "\n",
    "The first 5 fibonacci numbers are [0,1,1,2,3], and their cubes are [0,1,1,8,27]."
   ]
  },
  {
   "cell_type": "code",
   "execution_count": null,
   "metadata": {},
   "outputs": [],
   "source": [
    "# python 2\n",
    "\n",
    "cube = lambda x: pow(x,3)# complete the lambda function \n",
    "\n",
    "def fibonacci(n):\n",
    "    # return a list of fibonacci numbers\n",
    "    if n==0:\n",
    "        return []\n",
    "    if n==1:\n",
    "        return [0]\n",
    "    \n",
    "    fib_num=[0,1]\n",
    "    for i in range(2,n):\n",
    "        fib_num.append(fib_num[i-1]+fib_num[i-2])\n",
    "    return fib_num    \n",
    "\n",
    "if __name__ == '__main__':\n",
    "    n = int(raw_input())\n",
    "    print map(cube, fibonacci(n))"
   ]
  },
  {
   "cell_type": "code",
   "execution_count": null,
   "metadata": {},
   "outputs": [],
   "source": [
    "# python 3\n",
    "\n",
    "cube = lambda x: pow(x,3)# complete the lambda function \n",
    "\n",
    "def fibonacci(n):\n",
    "    # return a list of fibonacci numbers\n",
    "    if n==0:\n",
    "        return []\n",
    "    if n==1:\n",
    "        return [0]\n",
    "    \n",
    "    fib_num=[0,1]\n",
    "    for i in range(2,n):\n",
    "        fib_num.append(fib_num[i-1]+fib_num[i-2])\n",
    "    return fib_num\n",
    "\n",
    "if __name__ == '__main__':\n",
    "    n = int(input())\n",
    "    print(list(map(cube, fibonacci(n))))"
   ]
  }
 ],
 "metadata": {
  "kernelspec": {
   "display_name": "Python 2",
   "language": "python",
   "name": "python2"
  },
  "language_info": {
   "codemirror_mode": {
    "name": "ipython",
    "version": 2
   },
   "file_extension": ".py",
   "mimetype": "text/x-python",
   "name": "python",
   "nbconvert_exporter": "python",
   "pygments_lexer": "ipython2",
   "version": "2.7.15"
  }
 },
 "nbformat": 4,
 "nbformat_minor": 2
}
