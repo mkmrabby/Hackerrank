{
 "cells": [
  {
   "cell_type": "markdown",
   "metadata": {},
   "source": [
    "# Iterables and Iterators"
   ]
  },
  {
   "cell_type": "markdown",
   "metadata": {},
   "source": [
    "The itertools module standardizes a core set of fast, memory efficient tools that are useful by themselves or in combination. Together, they form an iterator algebra making it possible to construct specialized tools succinctly and efficiently in pure Python.\n",
    "\n",
    "To read more about the functions in this module, check out their documentation here.\n",
    "\n",
    "You are given a list of N lowercase English letters. For a given integer K, you can select any K indices (assume -based indexing) with a uniform probability from the list.\n",
    "\n",
    "Find the probability that at least one of the K indices selected will contain the letter: 'a'.\n",
    "\n",
    "Input Format\n",
    "\n",
    "The input consists of three lines. The first line contains the integer N, denoting the length of the list. The next line consists of  space-separated lowercase English letters, denoting the elements of the list.\n",
    "\n",
    "The third and the last line of input contains the integer K, denoting the number of indices to be selected.\n",
    "\n",
    "Output Format\n",
    "\n",
    "Output a single line consisting of the probability that at least one of the K indices selected contains the letter:'a'."
   ]
  },
  {
   "cell_type": "code",
   "execution_count": 4,
   "metadata": {},
   "outputs": [],
   "source": [
    "# python 2\n",
    "\n",
    "from __future__ import print_function\n",
    "from itertools import combinations\n",
    "\n",
    "N=int(raw_input())\n",
    "L=raw_input().split()\n",
    "K=int(raw_input())\n",
    "\n",
    "C=list(combinations(L,K))\n",
    "F=filter(lambda c: 'a' in c,C)\n",
    "\n",
    "no_C=float(len(C))\n",
    "no_F=float(len(F))\n",
    "\n",
    "print(no_F/no_C)"
   ]
  },
  {
   "cell_type": "code",
   "execution_count": null,
   "metadata": {},
   "outputs": [],
   "source": [
    "# python 3\n",
    "\n",
    "from itertools import combinations\n",
    "\n",
    "N=int(input())\n",
    "L=input().split()\n",
    "K=int(input())\n",
    "\n",
    "C=list(combinations(L,K))\n",
    "\n",
    "result=[1 for i in range(len(C)) if 'a' in C[i]]\n",
    "print(len(result)/len(C))"
   ]
  }
 ],
 "metadata": {
  "kernelspec": {
   "display_name": "Python 3",
   "language": "python",
   "name": "python3"
  },
  "language_info": {
   "codemirror_mode": {
    "name": "ipython",
    "version": 3
   },
   "file_extension": ".py",
   "mimetype": "text/x-python",
   "name": "python",
   "nbconvert_exporter": "python",
   "pygments_lexer": "ipython3",
   "version": "3.6.5"
  }
 },
 "nbformat": 4,
 "nbformat_minor": 2
}
