{
 "cells": [
  {
   "cell_type": "markdown",
   "metadata": {},
   "source": [
    "# Polar Coordinates"
   ]
  },
  {
   "cell_type": "markdown",
   "metadata": {},
   "source": [
    "Polar coordinates are an alternative way of representing Cartesian coordinates or Complex Numbers.\n",
    "\n",
    "cmath.phase: \n",
    "\n",
    "This tool returns the phase of complex number  (also known as the argument of ).\n",
    "\n",
    ">>> phase(complex(-1.0, 0.0))\n",
    "3.1415926535897931\n",
    "\n",
    "abs:\n",
    "\n",
    "This tool returns the modulus (absolute value) of complex number .\n",
    "\n",
    ">>> abs(complex(-1.0, 0.0))\n",
    "1.0"
   ]
  },
  {
   "cell_type": "markdown",
   "metadata": {},
   "source": [
    "Task\n",
    "\n",
    "You are given a complex z. Your task is to convert it to polar coordinates.\n",
    "\n",
    "\n",
    "Input Format\n",
    "\n",
    "A single line containing the complex number z. Note: complex() function can be used in python to convert the input as a complex number."
   ]
  },
  {
   "cell_type": "code",
   "execution_count": 4,
   "metadata": {},
   "outputs": [],
   "source": [
    "# python 2\n",
    "\n",
    "from __future__ import print_function\n",
    "import cmath\n",
    "\n",
    "z=complex(raw_input())\n",
    "print(cmath.polar(z)[0])\n",
    "print(cmath.polar(z)[1])"
   ]
  },
  {
   "cell_type": "code",
   "execution_count": null,
   "metadata": {},
   "outputs": [],
   "source": [
    "# python 3\n",
    "\n",
    "import cmath\n",
    "\n",
    "print(*cmath.polar(complex(input())),sep='\\n')"
   ]
  },
  {
   "cell_type": "code",
   "execution_count": null,
   "metadata": {},
   "outputs": [],
   "source": [
    "# python 3\n",
    "\n",
    "import cmath\n",
    "\n",
    "z=complex(input())\n",
    "\n",
    "r=abs(z)\n",
    "pa=cmath.phase(z)\n",
    "\n",
    "print('{0}\\n{1}'.format(r,pa))"
   ]
  }
 ],
 "metadata": {
  "kernelspec": {
   "display_name": "Python 3",
   "language": "python",
   "name": "python3"
  },
  "language_info": {
   "codemirror_mode": {
    "name": "ipython",
    "version": 3
   },
   "file_extension": ".py",
   "mimetype": "text/x-python",
   "name": "python",
   "nbconvert_exporter": "python",
   "pygments_lexer": "ipython3",
   "version": "3.6.5"
  }
 },
 "nbformat": 4,
 "nbformat_minor": 2
}
