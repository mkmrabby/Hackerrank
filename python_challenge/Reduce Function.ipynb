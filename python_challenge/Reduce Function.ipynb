{
 "cells": [
  {
   "cell_type": "markdown",
   "metadata": {},
   "source": [
    "Given a list of rational numbers,find their product.\n",
    "\n",
    "### Concept\n",
    "\n",
    "The reduce() function applies a function of two arguments cumulatively on a list of objects in succession from left to right to reduce it to one value. Say you have a list, say [1,2,3] and you have to find its sum.\n",
    "\n",
    ">>> reduce(lambda x, y : x + y,[1,2,3])\n",
    "\n",
    "6\n",
    "\n",
    "You can also define an initial value. If it is specified, the function will assume initial value as the value given, and then reduce. It is equivalent to adding the initial value at the beginning of the list. For example:\n",
    "\n",
    ">>> reduce(lambda x, y : x + y, [1,2,3], -3)\n",
    "\n",
    "3\n",
    "\n",
    ">>> from fractions import gcd\n",
    "\n",
    ">>> reduce(gcd, [2,4,8], 3)\n",
    "\n",
    "1\n",
    "\n",
    "### Input Format\n",
    "\n",
    "First line contains , the number of rational numbers.\n",
    "The  of next  lines contain two integers each, the numerator(  ) and denominator(  ) of the  rational number in the list.\n",
    "\n",
    "### Constraints\n",
    "\n",
    "### Output Format\n",
    "\n",
    "Print only one line containing the numerator and denominator of the product of the numbers in the list in its simplest form, i.e. numerator and denominator have no common divisor other than .\n",
    "\n",
    "### Sample Input 0\n",
    "\n",
    "3\n",
    "1 2\n",
    "3 4\n",
    "10 6\n",
    "\n",
    "### Sample Output 0\n",
    "\n",
    "5 8\n",
    "\n",
    "### Explanation 0\n",
    "\n",
    "Required product is "
   ]
  },
  {
   "cell_type": "code",
   "execution_count": 1,
   "metadata": {},
   "outputs": [
    {
     "name": "stdout",
     "output_type": "stream",
     "text": [
      "3\n",
      "1 2\n",
      "3 4\n",
      "10 6\n",
      "5 8\n"
     ]
    }
   ],
   "source": [
    "from __future__ import print_function\n",
    "from fractions import Fraction\n",
    "from functools import reduce\n",
    "import operator\n",
    "\n",
    "def product(fracs):\n",
    "    t = reduce(operator.mul, fracs)\n",
    "    return t.numerator, t.denominator\n",
    "\n",
    "if __name__ == '__main__':\n",
    "    fracs = []\n",
    "    for _ in range(input()):\n",
    "        fracs.append(Fraction(*map(int, raw_input().split())))\n",
    "    result = product(fracs)\n",
    "    print(*result)"
   ]
  },
  {
   "cell_type": "code",
   "execution_count": null,
   "metadata": {},
   "outputs": [],
   "source": [
    "from fractions import Fraction\n",
    "from functools import reduce\n",
    "\n",
    "def product(fracs):\n",
    "    t = reduce(lambda x, y: x*y, fracs)# complete this line with a reduce statement\n",
    "    return t.numerator, t.denominator\n",
    "\n",
    "if __name__ == '__main__':\n",
    "    fracs = []\n",
    "    for _ in range(int(input())):\n",
    "        fracs.append(Fraction(*map(int, input().split())))\n",
    "    result = product(fracs)\n",
    "    print(*result)"
   ]
  }
 ],
 "metadata": {
  "kernelspec": {
   "display_name": "Python 2",
   "language": "python",
   "name": "python2"
  },
  "language_info": {
   "codemirror_mode": {
    "name": "ipython",
    "version": 2
   },
   "file_extension": ".py",
   "mimetype": "text/x-python",
   "name": "python",
   "nbconvert_exporter": "python",
   "pygments_lexer": "ipython2",
   "version": "2.7.15"
  }
 },
 "nbformat": 4,
 "nbformat_minor": 2
}
