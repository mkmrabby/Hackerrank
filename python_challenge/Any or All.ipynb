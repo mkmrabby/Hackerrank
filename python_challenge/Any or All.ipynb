{
 "cells": [
  {
   "cell_type": "markdown",
   "metadata": {},
   "source": [
    "# Any or All"
   ]
  },
  {
   "cell_type": "markdown",
   "metadata": {},
   "source": [
    "any()\n",
    "This expression returns True if any element of the iterable is true.\n",
    "If the iterable is empty, it will return False.\n",
    "\n",
    "Code\n",
    "\n",
    ">>> any([1>0,1==0,1<0])\n",
    "\n",
    "True\n",
    "\n",
    ">>> any([1<0,2<1,3<2])\n",
    "\n",
    "False\n",
    "\n",
    "all()\n",
    "\n",
    "This expression returns True if all of the elements of the iterable are true. If the iterable is empty, it will return True.\n",
    "\n",
    "Code\n",
    "\n",
    ">>> all(['a'<'b','b'<'c'])\n",
    "\n",
    "True\n",
    "\n",
    ">>> all(['a'<'b','c'<'b'])\n",
    "\n",
    "False\n",
    "\n",
    "Task\n",
    "\n",
    "You are given a space separated list of integers. If all the integers are positive, then you need to check if any integer is a palindromic integer.\n",
    "\n",
    "Input Format\n",
    "\n",
    "The first line contains an integer N. N is the total number of integers in the list.\n",
    "The second line contains the space separated list of N integers.\n",
    "\n",
    "Constraints\n",
    "\n",
    "0 < N < 100\n",
    "\n",
    "Output Format\n",
    "\n",
    "Print True if all the conditions of the problem statement are satisfied. Otherwise, print False.\n",
    "\n",
    "Sample Input\n",
    "\n",
    "5\n",
    "12 9 61 5 14 \n",
    "Sample Output\n",
    "\n",
    "True\n",
    "\n",
    "Explanation\n",
    "\n",
    "Condition 1: All the integers in the list are positive.\n",
    "Condition 2: 5 is a palindromic integer.\n",
    "\n",
    "Hence, the output is True.\n",
    "\n",
    "Can you solve this challenge in 3 lines of code or less?\n",
    "There is no penalty for solutions that are correct but have more than 3 lines."
   ]
  },
  {
   "cell_type": "code",
   "execution_count": 4,
   "metadata": {},
   "outputs": [],
   "source": [
    "# python 2\n",
    "\n",
    "from __future__ import print_function\n",
    "\n",
    "N, n =int(raw_input()), raw_input().split()\n",
    "print(all([int(i)>0 for i in n]) and any([j==j[::-1] for j in n]))"
   ]
  },
  {
   "cell_type": "code",
   "execution_count": 6,
   "metadata": {},
   "outputs": [
    {
     "name": "stdout",
     "output_type": "stream",
     "text": [
      "5\n",
      "12 9 61 5 14 \n",
      "True\n"
     ]
    }
   ],
   "source": [
    "# python 3\n",
    "\n",
    "N, n =int(input()), input().split()\n",
    "print(all([int(i)>0 for i in n]) and any([j==j[::-1] for j in n]))"
   ]
  }
 ],
 "metadata": {
  "kernelspec": {
   "display_name": "Python 3",
   "language": "python",
   "name": "python3"
  },
  "language_info": {
   "codemirror_mode": {
    "name": "ipython",
    "version": 3
   },
   "file_extension": ".py",
   "mimetype": "text/x-python",
   "name": "python",
   "nbconvert_exporter": "python",
   "pygments_lexer": "ipython3",
   "version": "3.7.4"
  }
 },
 "nbformat": 4,
 "nbformat_minor": 2
}
