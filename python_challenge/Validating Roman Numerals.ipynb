{
 "cells": [
  {
   "cell_type": "markdown",
   "metadata": {},
   "source": [
    "# Validating Roman Numerals"
   ]
  },
  {
   "cell_type": "markdown",
   "metadata": {},
   "source": [
    "You are given a string, and you have to validate whether it's a valid Roman numeral. If it is valid, print True. Otherwise, print False. Try to create a regular expression for a valid Roman numeral.\n",
    "\n",
    "## Input Format\n",
    "\n",
    "A single line of input containing a string of Roman characters.\n",
    "\n",
    "## Output Format\n",
    "\n",
    "Output a single line containing True or False according to the instructions above.\n",
    "\n",
    "## Constraints\n",
    "\n",
    "The number will be between 1 and 3999 (both included).\n",
    "\n",
    "## Sample Input\n",
    "\n",
    "CDXXI\n",
    "\n",
    "## Sample Output\n",
    "\n",
    "True\n",
    "\n",
    "## References\n",
    "\n",
    "Regular expressions are a key concept in any programming language. A quick explanation with Python examples is available here. You could also go through the link below to read more about regular expressions in Python.\n",
    "\n",
    "https://developers.google.com/edu/python/regular-expressions"
   ]
  },
  {
   "cell_type": "code",
   "execution_count": 1,
   "metadata": {},
   "outputs": [
    {
     "name": "stdout",
     "output_type": "stream",
     "text": [
      "CDXXI\n",
      "True\n"
     ]
    }
   ],
   "source": [
    "# python 2\n",
    "\n",
    "regex_pattern = r\"^((?!IIII|VVVV|XXXX|LLLL|LL|CCCC|DDDD|MMMM).)*$\"\t## Do not delete 'r'.\n",
    "\n",
    "import re\n",
    "print(str(bool(re.match(regex_pattern, raw_input()))))"
   ]
  },
  {
   "cell_type": "code",
   "execution_count": null,
   "metadata": {},
   "outputs": [],
   "source": [
    "# python 3\n",
    "\n",
    "regex_pattern = r\"^((?!IIII|VVVV|XXXX|LLLL|LL|CCCC|DDDD|MMMM).)*$\"\t## Do not delete 'r'.\n",
    "\n",
    "import re\n",
    "print(str(bool(re.match(regex_pattern, input()))))"
   ]
  }
 ],
 "metadata": {
  "kernelspec": {
   "display_name": "Python 2",
   "language": "python",
   "name": "python2"
  },
  "language_info": {
   "codemirror_mode": {
    "name": "ipython",
    "version": 2
   },
   "file_extension": ".py",
   "mimetype": "text/x-python",
   "name": "python",
   "nbconvert_exporter": "python",
   "pygments_lexer": "ipython2",
   "version": "2.7.15"
  }
 },
 "nbformat": 4,
 "nbformat_minor": 2
}
