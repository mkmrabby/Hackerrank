{
 "cells": [
  {
   "cell_type": "markdown",
   "metadata": {},
   "source": [
    "# String Validators"
   ]
  },
  {
   "cell_type": "markdown",
   "metadata": {},
   "source": [
    "## Task\n",
    "\n",
    "You are given a string .\n",
    "Your task is to find out if the string  contains: alphanumeric characters, alphabetical characters, digits, lowercase and uppercase characters."
   ]
  },
  {
   "cell_type": "code",
   "execution_count": null,
   "metadata": {},
   "outputs": [],
   "source": [
    "# python 2\n",
    "\n",
    "from __future__ import print_function\n",
    "\n",
    "if __name__ == '__main__':\n",
    "    str_given = raw_input()\n",
    "    # Method 1\n",
    "    print (any(s.isalnum() for s in str_given))\n",
    "    print (any(s.isalpha() for s in str_given))\n",
    "    print (any(s.isdigit() for s in str_given))\n",
    "    print (any(s.islower() for s in str_given))\n",
    "    print (any(s.isupper() for s in str_given))\n",
    "\n",
    "    # Method 2\n",
    "    for test in ['isalnum', 'isalpha', 'isdigit', 'islower', 'isupper']:\n",
    "        print (any(eval('c.'+test+'()') for c in str_given))\n",
    "\n",
    "    # Method 3\n",
    "    for method in [str.isalnum, str.isalpha, str.isdigit, str.islower, str.isupper]:\n",
    "        print (any(method(c) for c in str_given))\n"
   ]
  },
  {
   "cell_type": "code",
   "execution_count": null,
   "metadata": {},
   "outputs": [],
   "source": [
    "# python 3\n",
    "\n",
    "if __name__ == '__main__':\n",
    "    str_given = input()\n",
    "    # Method 1\n",
    "    print (any(s.isalnum() for s in str_given))\n",
    "    print (any(s.isalpha() for s in str_given))\n",
    "    print (any(s.isdigit() for s in str_given))\n",
    "    print (any(s.islower() for s in str_given))\n",
    "    print (any(s.isupper() for s in str_given))\n",
    "\n",
    "    # Method 2\n",
    "    for test in ['isalnum', 'isalpha', 'isdigit', 'islower', 'isupper']:\n",
    "        print (any(eval('c.'+test+'()') for c in str_given))\n",
    "\n",
    "    # Method 3\n",
    "    for method in [str.isalnum, str.isalpha, str.isdigit, str.islower, str.isupper]:\n",
    "        print (any(method(c) for c in str_given))"
   ]
  }
 ],
 "metadata": {
  "kernelspec": {
   "display_name": "Python 2",
   "language": "python",
   "name": "python2"
  },
  "language_info": {
   "codemirror_mode": {
    "name": "ipython",
    "version": 2
   },
   "file_extension": ".py",
   "mimetype": "text/x-python",
   "name": "python",
   "nbconvert_exporter": "python",
   "pygments_lexer": "ipython2",
   "version": "2.7.15"
  }
 },
 "nbformat": 4,
 "nbformat_minor": 2
}
