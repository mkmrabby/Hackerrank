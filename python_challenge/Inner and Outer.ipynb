{
 "cells": [
  {
   "cell_type": "markdown",
   "metadata": {},
   "source": [
    "# Inner and Outer"
   ]
  },
  {
   "cell_type": "markdown",
   "metadata": {},
   "source": [
    "inner\n",
    "\n",
    "The inner tool returns the inner product of two arrays.\n",
    "\n",
    "import numpy\n",
    "\n",
    "A = numpy.array([0, 1])\n",
    "\n",
    "B = numpy.array([3, 4])\n",
    "\n",
    "print numpy.inner(A, B)     #Output : 4\n",
    "outer\n",
    "\n",
    "The outer tool returns the outer product of two arrays.\n",
    "\n",
    "import numpy\n",
    "\n",
    "A = numpy.array([0, 1])\n",
    "\n",
    "B = numpy.array([3, 4])\n",
    "\n",
    "print numpy.outer(A, B)     #Output : [[0 0]\n",
    "\n",
    "                            #          [3 4]]\n",
    "Task\n",
    "\n",
    "You are given two arrays:  and .\n",
    "Your task is to compute their inner and outer product.\n",
    "\n",
    "Input Format\n",
    "\n",
    "The first line contains the space separated elements of array .\n",
    "The second line contains the space separated elements of array .\n",
    "\n",
    "Output Format\n",
    "\n",
    "First, print the inner product.\n",
    "\n",
    "Second, print the outer product.\n",
    "\n",
    "Sample Input\n",
    "\n",
    "0 1\n",
    "\n",
    "2 3\n",
    "\n",
    "Sample Output\n",
    "\n",
    "3\n",
    "\n",
    "[[0 0]\n",
    "\n",
    " [2 3]]"
   ]
  },
  {
   "cell_type": "code",
   "execution_count": 1,
   "metadata": {},
   "outputs": [
    {
     "name": "stdout",
     "output_type": "stream",
     "text": [
      "0 1\n",
      "2 3\n",
      "3\n",
      "[[0 0]\n",
      " [2 3]]\n"
     ]
    }
   ],
   "source": [
    "# python 2\n",
    "from __future__ import print_function\n",
    "import numpy as np\n",
    "\n",
    "\n",
    "A=np.array(raw_input().split(),int)\n",
    "B=np.array(raw_input().split(),int)\n",
    "\n",
    "print(np.inner(A, B))\n",
    "print(np.outer(A, B))"
   ]
  },
  {
   "cell_type": "code",
   "execution_count": null,
   "metadata": {},
   "outputs": [],
   "source": [
    "# python 3\n",
    "\n",
    "import numpy as np\n",
    "\n",
    "A,B = [np.array([input().split()],int) for _ in range(2)]\n",
    "\n",
    "print(np.inner(A,B)[0][0],np.outer(A,B),sep=\"\\n\")"
   ]
  }
 ],
 "metadata": {
  "kernelspec": {
   "display_name": "Python 2",
   "language": "python",
   "name": "python2"
  },
  "language_info": {
   "codemirror_mode": {
    "name": "ipython",
    "version": 2
   },
   "file_extension": ".py",
   "mimetype": "text/x-python",
   "name": "python",
   "nbconvert_exporter": "python",
   "pygments_lexer": "ipython2",
   "version": "2.7.15"
  }
 },
 "nbformat": 4,
 "nbformat_minor": 2
}
