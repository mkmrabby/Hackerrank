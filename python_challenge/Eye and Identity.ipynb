{
 "cells": [
  {
   "cell_type": "markdown",
   "metadata": {},
   "source": [
    "# Eye and Identity"
   ]
  },
  {
   "cell_type": "markdown",
   "metadata": {},
   "source": [
    "identity\n",
    "\n",
    "The identity tool returns an identity array. An identity array is a square matrix with all the main diagonal elements as 1 and the rest as 0. The default type of elements is float.\n",
    "\n",
    "import numpy\n",
    "print numpy.identity(3) #3 is for  dimension 3 X 3\n",
    "\n",
    "#Output\n",
    "\n",
    "[[ 1.  0.  0.]\n",
    "\n",
    " [ 0.  1.  0.]\n",
    " \n",
    " [ 0.  0.  1.]]"
   ]
  },
  {
   "cell_type": "markdown",
   "metadata": {},
   "source": [
    "eye\n",
    "\n",
    "The eye tool returns a 2-D array with 's as the diagonal and 's elsewhere. The diagonal can be main, upper or lower depending on the optional parameter . A positive  is for the upper diagonal, a negative  is for the lower, and a   (default) is for the main diagonal.\n",
    "\n",
    "import numpy\n",
    "print numpy.eye(8, 7, k = 1)    # 8 X 7 Dimensional array with first upper diagonal 1.\n",
    "\n",
    "#Output\n",
    "\n",
    "[[ 0.  1.  0.  0.  0.  0.  0.]\n",
    "\n",
    " [ 0.  0.  1.  0.  0.  0.  0.]\n",
    " \n",
    " [ 0.  0.  0.  1.  0.  0.  0.]\n",
    " \n",
    " [ 0.  0.  0.  0.  1.  0.  0.]\n",
    " \n",
    " [ 0.  0.  0.  0.  0.  1.  0.]\n",
    " \n",
    " [ 0.  0.  0.  0.  0.  0.  1.]\n",
    " \n",
    " [ 0.  0.  0.  0.  0.  0.  0.]\n",
    " \n",
    " [ 0.  0.  0.  0.  0.  0.  0.]]\n",
    "\n",
    "print numpy.eye(8, 7, k = -2)   # 8 X 7 Dimensional array with second lower diagonal 1."
   ]
  },
  {
   "cell_type": "markdown",
   "metadata": {},
   "source": [
    "Task\n",
    "\n",
    "Your task is to print an array of size N X M with its main diagonal elements as 1's and 0's everywhere else.\n",
    "\n",
    "Input Format\n",
    "\n",
    "A single line containing the space separated values of N and M.\n",
    "N denotes the rows.\n",
    "M denotes the columns.\n",
    "\n",
    "Output Format\n",
    "\n",
    "Print the desired N X M array."
   ]
  },
  {
   "cell_type": "code",
   "execution_count": null,
   "metadata": {},
   "outputs": [],
   "source": [
    "# python 2\n",
    "\n",
    "from __future__ import print_function\n",
    "import numpy as np\n",
    "\n",
    "n,m=map(int,raw_input().split())\n",
    "np.set_printoptions(sign=' ')\n",
    "print(str(np.eye(n,m)).replace('1','1').replace('0','0'))"
   ]
  },
  {
   "cell_type": "code",
   "execution_count": null,
   "metadata": {},
   "outputs": [],
   "source": [
    "# python 3\n",
    "\n",
    "import numpy as np\n",
    "\n",
    "n,m=map(int,input().split())\n",
    "np.set_printoptions(sign=' ')\n",
    "print(np.eye(n,m))"
   ]
  }
 ],
 "metadata": {
  "kernelspec": {
   "display_name": "Python 3",
   "language": "python",
   "name": "python3"
  },
  "language_info": {
   "codemirror_mode": {
    "name": "ipython",
    "version": 3
   },
   "file_extension": ".py",
   "mimetype": "text/x-python",
   "name": "python",
   "nbconvert_exporter": "python",
   "pygments_lexer": "ipython3",
   "version": "3.6.5"
  }
 },
 "nbformat": 4,
 "nbformat_minor": 2
}
