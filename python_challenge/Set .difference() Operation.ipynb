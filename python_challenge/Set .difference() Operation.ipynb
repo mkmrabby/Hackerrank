{
 "cells": [
  {
   "cell_type": "markdown",
   "metadata": {},
   "source": [
    "# Set .difference() Operation"
   ]
  },
  {
   "cell_type": "markdown",
   "metadata": {},
   "source": [
    ".difference()\n",
    "The tool .difference() returns a set with all the elements from the set that are not in an iterable.\n",
    "Sometimes the - operator is used in place of the .difference() tool, but it only operates on the set of elements in set.\n",
    "Set is immutable to the .difference() operation (or the - operation).\n",
    "\n",
    ">>> s = set(\"Hacker\")\n",
    ">>> print s.difference(\"Rank\")\n",
    "set(['c', 'r', 'e', 'H'])\n",
    "\n",
    ">>> print s.difference(set(['R', 'a', 'n', 'k']))\n",
    "set(['c', 'r', 'e', 'H'])\n",
    "\n",
    ">>> print s.difference(['R', 'a', 'n', 'k'])\n",
    "set(['c', 'r', 'e', 'H'])\n",
    "\n",
    ">>> print s.difference(enumerate(['R', 'a', 'n', 'k']))\n",
    "set(['a', 'c', 'r', 'e', 'H', 'k'])\n",
    "\n",
    ">>> print s.difference({\"Rank\":1})\n",
    "set(['a', 'c', 'e', 'H', 'k', 'r'])\n",
    "\n",
    ">>> s - set(\"Rank\")\n",
    "set(['H', 'c', 'r', 'e'])"
   ]
  },
  {
   "cell_type": "markdown",
   "metadata": {},
   "source": [
    "Task\n",
    "\n",
    "Students of District College have a subscription to English and French newspapers. Some students have subscribed to only the English newspaper, some have subscribed to only the French newspaper, and some have subscribed to both newspapers.\n",
    "\n",
    "You are given two sets of student roll numbers. One set has subscribed to the English newspaper, and one set has subscribed to the French newspaper. Your task is to find the total number of students who have subscribed to only English newspapers."
   ]
  },
  {
   "cell_type": "code",
   "execution_count": null,
   "metadata": {},
   "outputs": [],
   "source": [
    "# python 2\n",
    "from __future__ import print_function\n",
    "\n",
    "na=raw_input()\n",
    "a=set(map(int,raw_input().split()))\n",
    "nb=raw_input()\n",
    "b=set(map(int,raw_input().split()))\n",
    "\n",
    "print(len(a.difference(b)))"
   ]
  },
  {
   "cell_type": "code",
   "execution_count": null,
   "metadata": {},
   "outputs": [],
   "source": [
    "# python 3\n",
    "\n",
    "a, b=[set(input().split()) for _ in range(4)][1::2]\n",
    "print(len(a-b))"
   ]
  }
 ],
 "metadata": {
  "kernelspec": {
   "display_name": "Python 2",
   "language": "python",
   "name": "python2"
  },
  "language_info": {
   "codemirror_mode": {
    "name": "ipython",
    "version": 2
   },
   "file_extension": ".py",
   "mimetype": "text/x-python",
   "name": "python",
   "nbconvert_exporter": "python",
   "pygments_lexer": "ipython2",
   "version": "2.7.15"
  }
 },
 "nbformat": 4,
 "nbformat_minor": 2
}
