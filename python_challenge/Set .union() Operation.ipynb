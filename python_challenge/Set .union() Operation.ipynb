{
 "cells": [
  {
   "cell_type": "markdown",
   "metadata": {},
   "source": [
    "# Set .union() Operation"
   ]
  },
  {
   "cell_type": "markdown",
   "metadata": {},
   "source": [
    ".union()\n",
    "\n",
    "The .union() operator returns the union of a set and the set of elements in an iterable.\n",
    "Sometimes, the | operator is used in place of .union() operator, but it operates only on the set of elements in set.\n",
    "Set is immutable to the .union() operation (or | operation).\n",
    "\n",
    "Example\n",
    "\n",
    ">>> s = set(\"Hacker\")\n",
    ">>> print s.union(\"Rank\")\n",
    "set(['a', 'R', 'c', 'r', 'e', 'H', 'k', 'n'])\n",
    "\n",
    ">>> print s.union(set(['R', 'a', 'n', 'k']))\n",
    "set(['a', 'R', 'c', 'r', 'e', 'H', 'k', 'n'])\n",
    "\n",
    ">>> print s.union(['R', 'a', 'n', 'k'])\n",
    "set(['a', 'R', 'c', 'r', 'e', 'H', 'k', 'n'])\n",
    "\n",
    ">>> print s.union(enumerate(['R', 'a', 'n', 'k']))\n",
    "set(['a', 'c', 'r', 'e', (1, 'a'), (2, 'n'), 'H', 'k', (3, 'k'), (0, 'R')])\n",
    "\n",
    ">>> print s.union({\"Rank\":1})\n",
    "set(['a', 'c', 'r', 'e', 'H', 'k', 'Rank'])\n",
    "\n",
    ">>> s | set(\"Rank\")\n",
    "set(['a', 'R', 'c', 'r', 'e', 'H', 'k', 'n'])"
   ]
  },
  {
   "cell_type": "markdown",
   "metadata": {},
   "source": [
    "Task\n",
    "\n",
    "The students of District College have subscriptions to English and French newspapers. Some students have subscribed only to English, some have subscribed to only French and some have subscribed to both newspapers.\n",
    "\n",
    "You are given two sets of student roll numbers. One set has subscribed to the English newspaper, and the other set is subscribed to the French newspaper. The same student could be in both sets. Your task is to find the total number of students who have subscribed to at least one newspaper."
   ]
  },
  {
   "cell_type": "code",
   "execution_count": 4,
   "metadata": {},
   "outputs": [],
   "source": [
    "# python 2\n",
    "\n",
    "from __future__ import print_function\n",
    "\n",
    "na=int(raw_input())\n",
    "a=set(map(int,raw_input().split()))\n",
    "nb=int(raw_input())\n",
    "b=set(map(int,raw_input().split()))\n",
    "print(len(a|b))"
   ]
  },
  {
   "cell_type": "code",
   "execution_count": null,
   "metadata": {},
   "outputs": [],
   "source": [
    "# python 3\n",
    "\n",
    "a, b= [set(input().split()) for _ in range(4)][1::2]\n",
    "print(len(a.union(b)))"
   ]
  }
 ],
 "metadata": {
  "kernelspec": {
   "display_name": "Python 3",
   "language": "python",
   "name": "python3"
  },
  "language_info": {
   "codemirror_mode": {
    "name": "ipython",
    "version": 3
   },
   "file_extension": ".py",
   "mimetype": "text/x-python",
   "name": "python",
   "nbconvert_exporter": "python",
   "pygments_lexer": "ipython3",
   "version": "3.6.5"
  }
 },
 "nbformat": 4,
 "nbformat_minor": 2
}
