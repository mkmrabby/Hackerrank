{
 "cells": [
  {
   "cell_type": "markdown",
   "metadata": {},
   "source": [
    "# Set .intersection() Operation"
   ]
  },
  {
   "cell_type": "markdown",
   "metadata": {},
   "source": [
    ".intersection()\n",
    "\n",
    "The .intersection() operator returns the intersection of a set and the set of elements in an iterable.\n",
    "Sometimes, the & operator is used in place of the .intersection() operator, but it only operates on the set of elements in set.\n",
    "The set is immutable to the .intersection() operation (or & operation).\n",
    "\n",
    "Example\n",
    "\n",
    ">>> s = set(\"Hacker\")\n",
    ">>> print s.intersection(\"Rank\")\n",
    "set(['a', 'k'])\n",
    "\n",
    ">>> print s.intersection(set(['R', 'a', 'n', 'k']))\n",
    "set(['a', 'k'])\n",
    "\n",
    ">>> print s.intersection(['R', 'a', 'n', 'k'])\n",
    "set(['a', 'k'])\n",
    "\n",
    ">>> print s.intersection(enumerate(['R', 'a', 'n', 'k']))\n",
    "set([])\n",
    "\n",
    ">>> print s.intersection({\"Rank\":1})\n",
    "set([])\n",
    "\n",
    ">>> s & set(\"Rank\")\n",
    "set(['a', 'k'])"
   ]
  },
  {
   "cell_type": "markdown",
   "metadata": {},
   "source": [
    "Task\n",
    "\n",
    "The students of District College have subscriptions to English and French newspapers. Some students have subscribed only to English, some have subscribed only to French, and some have subscribed to both newspapers.\n",
    "\n",
    "You are given two sets of student roll numbers. One set has subscribed to the English newspaper, one set has subscribed to the French newspaper. Your task is to find the total number of students who have subscribed to both newspapers."
   ]
  },
  {
   "cell_type": "code",
   "execution_count": 4,
   "metadata": {},
   "outputs": [],
   "source": [
    "# python 2\n",
    "\n",
    "from __future__ import print_function\n",
    "\n",
    "na=int(raw_input())\n",
    "a=set(map(int,raw_input().split()))\n",
    "nb=int(raw_input())\n",
    "b=set(map(int,raw_input().split()))\n",
    "print(len(a.intersection(b)))"
   ]
  },
  {
   "cell_type": "code",
   "execution_count": null,
   "metadata": {},
   "outputs": [],
   "source": [
    "# python 3\n",
    "\n",
    "a, b=[set(input().split()) for _ in range(4)][1::2]\n",
    "print(len(a.intersection(b)))"
   ]
  }
 ],
 "metadata": {
  "kernelspec": {
   "display_name": "Python 3",
   "language": "python",
   "name": "python3"
  },
  "language_info": {
   "codemirror_mode": {
    "name": "ipython",
    "version": 3
   },
   "file_extension": ".py",
   "mimetype": "text/x-python",
   "name": "python",
   "nbconvert_exporter": "python",
   "pygments_lexer": "ipython3",
   "version": "3.6.5"
  }
 },
 "nbformat": 4,
 "nbformat_minor": 2
}
