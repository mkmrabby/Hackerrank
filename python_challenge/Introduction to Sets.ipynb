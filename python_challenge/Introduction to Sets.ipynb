{
 "cells": [
  {
   "cell_type": "markdown",
   "metadata": {},
   "source": [
    "# Introduction to Sets"
   ]
  },
  {
   "cell_type": "markdown",
   "metadata": {},
   "source": [
    "A set is an unordered collection of elements without duplicate entries.\n",
    "When printed, iterated or converted into a sequence, its elements will appear in an arbitrary order."
   ]
  },
  {
   "cell_type": "markdown",
   "metadata": {},
   "source": [
    "Example:\n",
    "\n",
    ">>> print set()\n",
    "set([])\n",
    "\n",
    ">>> print set('HackerRank')\n",
    "set(['a', 'c', 'e', 'H', 'k', 'n', 'r', 'R'])\n",
    "\n",
    ">>> print set([1,2,1,2,3,4,5,6,0,9,12,22,3])\n",
    "set([0, 1, 2, 3, 4, 5, 6, 9, 12, 22])\n",
    "\n",
    ">>> print set((1,2,3,4,5,5))\n",
    "set([1, 2, 3, 4, 5])\n",
    "\n",
    ">>> print set(set(['H','a','c','k','e','r','r','a','n','k']))\n",
    "set(['a', 'c', 'r', 'e', 'H', 'k', 'n'])\n",
    "\n",
    ">>> print set({'Hacker' : 'DOSHI', 'Rank' : 616 })\n",
    "set(['Hacker', 'Rank'])\n",
    "\n",
    ">>> print set(enumerate(['H','a','c','k','e','r','r','a','n','k']))\n",
    "set([(6, 'r'), (7, 'a'), (3, 'k'), (4, 'e'), (5, 'r'), (9, 'k'), (2, 'c'), (0, 'H'), (1, 'a'), (8, 'n')])"
   ]
  },
  {
   "cell_type": "markdown",
   "metadata": {},
   "source": [
    "Output the average height value on a single line."
   ]
  },
  {
   "cell_type": "code",
   "execution_count": null,
   "metadata": {},
   "outputs": [],
   "source": [
    "#python 2\n",
    "from __future__ import division\n",
    "\n",
    "def average(array):\n",
    "    # your code goes here\n",
    "    return sum(set(array))/len(set(array))\n",
    "\n",
    "if __name__ == '__main__':\n",
    "    n = int(raw_input())\n",
    "    arr = map(int, raw_input().split())\n",
    "    result = average(arr)\n",
    "    print result"
   ]
  },
  {
   "cell_type": "code",
   "execution_count": null,
   "metadata": {},
   "outputs": [],
   "source": [
    "# python 3\n",
    "\n",
    "def average(array):\n",
    "    # your code goes here\n",
    "    return sum(set(array))/len(set(array))\n",
    "\n",
    "if __name__ == '__main__':\n",
    "    n = int(input())\n",
    "    arr = list(map(int, input().split()))\n",
    "    result = average(arr)\n",
    "    print(result)"
   ]
  }
 ],
 "metadata": {
  "kernelspec": {
   "display_name": "Python 3",
   "language": "python",
   "name": "python3"
  },
  "language_info": {
   "codemirror_mode": {
    "name": "ipython",
    "version": 3
   },
   "file_extension": ".py",
   "mimetype": "text/x-python",
   "name": "python",
   "nbconvert_exporter": "python",
   "pygments_lexer": "ipython3",
   "version": "3.6.5"
  }
 },
 "nbformat": 4,
 "nbformat_minor": 2
}
