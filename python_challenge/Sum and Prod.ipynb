{
 "cells": [
  {
   "cell_type": "markdown",
   "metadata": {},
   "source": [
    "# Sum and Prod"
   ]
  },
  {
   "cell_type": "markdown",
   "metadata": {},
   "source": [
    "sum\n",
    "\n",
    "The sum tool returns the sum of array elements over a given axis.\n",
    "\n",
    "import numpy\n",
    "\n",
    "my_array = numpy.array([ [1, 2], [3, 4] ])\n",
    "\n",
    "print numpy.sum(my_array, axis = 0)         #Output : [4 6]\n",
    "\n",
    "print numpy.sum(my_array, axis = 1)         #Output : [3 7]\n",
    "\n",
    "print numpy.sum(my_array, axis = None)      #Output : 10\n",
    "\n",
    "print numpy.sum(my_array)                   #Output : 10\n",
    "\n",
    "By default, the axis value is None. Therefore, it performs a sum over all the dimensions of the input array.\n",
    "\n",
    "prod\n",
    "\n",
    "The prod tool returns the product of array elements over a given axis.\n",
    "\n",
    "import numpy\n",
    "\n",
    "my_array = numpy.array([ [1, 2], [3, 4] ])\n",
    "\n",
    "print numpy.prod(my_array, axis = 0)            #Output : [3 8]\n",
    "\n",
    "print numpy.prod(my_array, axis = 1)            #Output : [ 2 12]\n",
    "\n",
    "print numpy.prod(my_array, axis = None)         #Output : 24\n",
    "\n",
    "print numpy.prod(my_array)                      #Output : 24\n",
    "\n",
    "By default, the axis value is None. Therefore, it performs the product over all the dimensions of the input array.\n",
    "\n",
    "Task\n",
    "\n",
    "You are given a 2-D array with dimensions N X M.\n",
    "Your task is to perform the  tool over axis 0 and then find the product of that result.\n",
    "\n",
    "Input Format\n",
    "\n",
    "The first line of input contains space separated values of N and M.\n",
    "The next N lines contains M space separated integers.\n",
    "\n",
    "Output Format\n",
    "\n",
    "Compute the sum along axis 0. Then, print the product of that sum.\n",
    "\n",
    "Sample Input\n",
    "\n",
    "2 2\n",
    "\n",
    "1 2\n",
    "\n",
    "3 4\n",
    "\n",
    "Sample Output\n",
    "\n",
    "24\n",
    "\n",
    "Explanation\n",
    "\n",
    "The sum along axis 0 = [4 6]\n",
    "\n",
    "The product of this sum = 24"
   ]
  },
  {
   "cell_type": "code",
   "execution_count": 6,
   "metadata": {},
   "outputs": [],
   "source": [
    "# python 2\n",
    "\n",
    "import numpy as np\n",
    "\n",
    "N,M=map(int,raw_input().split())\n",
    "A=np.array([raw_input().split() for _ in range(N)],int)\n",
    "print np.prod(np.sum(A,axis=0),axis=0)"
   ]
  },
  {
   "cell_type": "code",
   "execution_count": null,
   "metadata": {},
   "outputs": [],
   "source": [
    "# python 3\n",
    "\n",
    "import numpy as np\n",
    "\n",
    "N,M=map(int,input().split())\n",
    "A=np.array([input().split() for _ in range(N)],int)\n",
    "print (np.prod(np.sum(A,axis=0),axis=0))"
   ]
  }
 ],
 "metadata": {
  "kernelspec": {
   "display_name": "Python 2",
   "language": "python",
   "name": "python2"
  },
  "language_info": {
   "codemirror_mode": {
    "name": "ipython",
    "version": 2
   },
   "file_extension": ".py",
   "mimetype": "text/x-python",
   "name": "python",
   "nbconvert_exporter": "python",
   "pygments_lexer": "ipython2",
   "version": "2.7.15"
  }
 },
 "nbformat": 4,
 "nbformat_minor": 2
}
