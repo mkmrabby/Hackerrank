{
 "cells": [
  {
   "cell_type": "markdown",
   "metadata": {},
   "source": [
    "# Polynomials"
   ]
  },
  {
   "cell_type": "markdown",
   "metadata": {},
   "source": [
    "### poly\n",
    "\n",
    "The poly tool returns the coefficients of a polynomial with the given sequence of roots.\n",
    "\n",
    "print numpy.poly([-1, 1, 1, 10])        #Output : [  1 -11   9  11 -10]\n",
    "\n",
    "### roots\n",
    "\n",
    "The roots tool returns the roots of a polynomial with the given coefficients.\n",
    "\n",
    "print numpy.roots([1, 0, -1])           #Output : [-1.  1.]\n",
    "\n",
    "### polyint\n",
    "\n",
    "The polyint tool returns an antiderivative (indefinite integral) of a polynomial.\n",
    "\n",
    "print numpy.polyint([1, 1, 1])          #Output : [ 0.33333333  0.5         1.          0.        ]\n",
    "\n",
    "### polyder\n",
    "\n",
    "The polyder tool returns the derivative of the specified order of a polynomial.\n",
    "\n",
    "print numpy.polyder([1, 1, 1, 1])       #Output : [3 2 1]\n",
    "\n",
    "### polyval\n",
    "\n",
    "The polyval tool evaluates the polynomial at specific value.\n",
    "\n",
    "print numpy.polyval([1, -2, 0, 2], 4)   #Output : 34\n",
    "\n",
    "### polyfit\n",
    "\n",
    "The polyfit tool fits a polynomial of a specified order to a set of data using a least-squares approach.\n",
    "\n",
    "print numpy.polyfit([0,1,-1, 2, -2], [0,1,1, 4, 4], 2)\n",
    "\n",
    "#Output : [  1.00000000e+00   0.00000000e+00  -3.97205465e-16]\n",
    "\n",
    "The functions polyadd, polysub, polymul, and polydiv also handle proper addition, subtraction, multiplication, and division of polynomial coefficients, respectively.\n",
    "\n",
    "### Task\n",
    "\n",
    "You are given the coefficients of a polynomial P.\n",
    "Your task is to find the value of P at point x.\n",
    "\n",
    "### Input Format\n",
    "\n",
    "The first line contains the space separated value of the coefficients in P.\n",
    "The second line contains the value of x.\n",
    "\n",
    "### Output Format\n",
    "\n",
    "Print the desired value.\n",
    "\n",
    "### Sample Input\n",
    "\n",
    "1.1 2 3\n",
    "\n",
    "0\n",
    "\n",
    "### Sample Output\n",
    "\n",
    "3.0"
   ]
  },
  {
   "cell_type": "code",
   "execution_count": 1,
   "metadata": {},
   "outputs": [
    {
     "name": "stdout",
     "output_type": "stream",
     "text": [
      "1.1 2 3\n",
      "0\n",
      "3.0\n"
     ]
    }
   ],
   "source": [
    "# python 2\n",
    "\n",
    "from __future__ import print_function\n",
    "import numpy as np\n",
    "\n",
    "p=list(map(float, raw_input().split()))\n",
    "v=int(raw_input())\n",
    "print(np.polyval(p,v))"
   ]
  },
  {
   "cell_type": "code",
   "execution_count": null,
   "metadata": {},
   "outputs": [],
   "source": [
    "# python 3\n",
    "\n",
    "import numpy as np\n",
    "\n",
    "p=list(map(float, raw_input().split()))\n",
    "v=int(raw_input())\n",
    "print(np.polyval(p,v))"
   ]
  }
 ],
 "metadata": {
  "kernelspec": {
   "display_name": "Python 2",
   "language": "python",
   "name": "python2"
  },
  "language_info": {
   "codemirror_mode": {
    "name": "ipython",
    "version": 2
   },
   "file_extension": ".py",
   "mimetype": "text/x-python",
   "name": "python",
   "nbconvert_exporter": "python",
   "pygments_lexer": "ipython2",
   "version": "2.7.15"
  }
 },
 "nbformat": 4,
 "nbformat_minor": 2
}
