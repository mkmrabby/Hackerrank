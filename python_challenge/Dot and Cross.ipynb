{
 "cells": [
  {
   "cell_type": "markdown",
   "metadata": {},
   "source": [
    "# Dot and Cross"
   ]
  },
  {
   "cell_type": "markdown",
   "metadata": {},
   "source": [
    "### dot\n",
    "\n",
    "The dot tool returns the dot product of two arrays.\n",
    "\n",
    "import numpy\n",
    "\n",
    "A = numpy.array([ 1, 2 ])\n",
    "B = numpy.array([ 3, 4 ])\n",
    "\n",
    "print numpy.dot(A, B)       #Output : 11\n",
    "\n",
    "### cross\n",
    "\n",
    "The cross tool returns the cross product of two arrays.\n",
    "\n",
    "import numpy\n",
    "\n",
    "A = numpy.array([ 1, 2 ])\n",
    "\n",
    "B = numpy.array([ 3, 4 ])\n",
    "\n",
    "print numpy.cross(A, B)     #Output : -2\n",
    "\n",
    "### Task\n",
    "\n",
    "You are given two arrays A and B. Both have dimensions of N X N.\n",
    "Your task is to compute their matrix product.\n",
    "\n",
    "### Input Format\n",
    "\n",
    "The first line contains the integer N.\n",
    "The next N lines contains N space separated integers of array N.\n",
    "The following N lines contains N space separated integers of array B.\n",
    "\n",
    "### Output Format\n",
    "\n",
    "Print the matrix multiplication of A and B.\n",
    "\n",
    "### Sample Input\n",
    "\n",
    "2\n",
    "\n",
    "1 2\n",
    "\n",
    "3 4\n",
    "\n",
    "1 2\n",
    "\n",
    "3 4\n",
    "\n",
    "Sample Output\n",
    "\n",
    "[[ 7 10]\n",
    "\n",
    " [15 22]]"
   ]
  },
  {
   "cell_type": "code",
   "execution_count": 6,
   "metadata": {},
   "outputs": [],
   "source": [
    "# python 2\n",
    "\n",
    "from __future__ import print_function\n",
    "import numpy as np\n",
    "\n",
    "n=int(raw_input())\n",
    "A=np.array([raw_input().split() for _ in range(n)],int)\n",
    "B=np.array([raw_input().split() for _ in range(n)],int)\n",
    "\n",
    "M=np.dot(A,B)\n",
    "\n",
    "print(M)"
   ]
  },
  {
   "cell_type": "code",
   "execution_count": null,
   "metadata": {},
   "outputs": [],
   "source": [
    "# python 3\n",
    "\n",
    "import numpy as np\n",
    "\n",
    "n=int(input())\n",
    "A=np.array([input().split() for _ in range(n)],int)\n",
    "B=np.array([input().split() for _ in range(n)],int)\n",
    "\n",
    "M=np.dot(A,B)\n",
    "\n",
    "print(M)"
   ]
  }
 ],
 "metadata": {
  "kernelspec": {
   "display_name": "Python 2",
   "language": "python",
   "name": "python2"
  },
  "language_info": {
   "codemirror_mode": {
    "name": "ipython",
    "version": 2
   },
   "file_extension": ".py",
   "mimetype": "text/x-python",
   "name": "python",
   "nbconvert_exporter": "python",
   "pygments_lexer": "ipython2",
   "version": "2.7.15"
  }
 },
 "nbformat": 4,
 "nbformat_minor": 2
}
