{
 "cells": [
  {
   "cell_type": "markdown",
   "metadata": {},
   "source": [
    "# Check Subset"
   ]
  },
  {
   "cell_type": "markdown",
   "metadata": {},
   "source": [
    "You are given a set A and n other sets.\n",
    "Your job is to find whether set A is a strict superset of each of the N sets.\n",
    "\n",
    "Print True, if A is a strict superset of each of the N sets. Otherwise, print False.\n",
    "\n",
    "A strict superset has at least one element that does not exist in its subset."
   ]
  },
  {
   "cell_type": "code",
   "execution_count": null,
   "metadata": {},
   "outputs": [],
   "source": [
    "# python 2\n",
    "from __future__ import print_function\n",
    "\n",
    "A=set(map(int, raw_input().split()))\n",
    "B=[]\n",
    "\n",
    "for _ in range(int(raw_input())):\n",
    "    B.append(A.issuperset(set(map(int, raw_input().split()))))\n",
    "\n",
    "print(all(B))"
   ]
  },
  {
   "cell_type": "code",
   "execution_count": null,
   "metadata": {},
   "outputs": [],
   "source": [
    "# python 3\n",
    "\n",
    "A=set(input().split())\n",
    "print(all(A > set(input().split()) for _ in range(int(input()))))"
   ]
  }
 ],
 "metadata": {
  "kernelspec": {
   "display_name": "Python 2",
   "language": "python",
   "name": "python2"
  },
  "language_info": {
   "codemirror_mode": {
    "name": "ipython",
    "version": 2
   },
   "file_extension": ".py",
   "mimetype": "text/x-python",
   "name": "python",
   "nbconvert_exporter": "python",
   "pygments_lexer": "ipython2",
   "version": "2.7.15"
  }
 },
 "nbformat": 4,
 "nbformat_minor": 2
}
