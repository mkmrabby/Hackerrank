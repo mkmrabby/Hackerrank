{
 "cells": [
  {
   "cell_type": "markdown",
   "metadata": {},
   "source": [
    "# Set Mutations"
   ]
  },
  {
   "cell_type": "markdown",
   "metadata": {},
   "source": [
    "We have seen the applications of union, intersection, difference and symmetric difference operations, but these operations do not make any changes or mutations to the set.\n",
    "\n",
    "We can use the following operations to create mutations to a set:\n",
    "\n",
    ".update() or |=\n",
    "Update the set by adding elements from an iterable/another set.\n",
    "\n",
    ">>> H = set(\"Hacker\")\n",
    ">>> R = set(\"Rank\")\n",
    ">>> H.update(R)\n",
    ">>> print H\n",
    "set(['a', 'c', 'e', 'H', 'k', 'n', 'r', 'R'])\n",
    "\n",
    ".intersection_update() or &=\n",
    "Update the set by keeping only the elements found in it and an iterable/another set.\n",
    "\n",
    ">>> H = set(\"Hacker\")\n",
    ">>> R = set(\"Rank\")\n",
    ">>> H.intersection_update(R)\n",
    ">>> print H\n",
    "set(['a', 'k'])\n",
    "\n",
    ".difference_update() or -=\n",
    "Update the set by removing elements found in an iterable/another set.\n",
    "\n",
    ">>> H = set(\"Hacker\")\n",
    ">>> R = set(\"Rank\")\n",
    ">>> H.difference_update(R)\n",
    ">>> print H\n",
    "set(['c', 'e', 'H', 'r'])\n",
    ".symmetric_difference_update() or ^=\n",
    "Update the set by only keeping the elements found in either set, but not in both.\n",
    "\n",
    ">>> H = set(\"Hacker\")\n",
    ">>> R = set(\"Rank\")\n",
    ">>> H.symmetric_difference_update(R)\n",
    ">>> print H\n",
    "set(['c', 'e', 'H', 'n', 'r', 'R'])\n",
    "\n",
    ">>> s ^ set(\"Rank\")\n",
    "set(['c', 'e', 'H', 'n', 'R', 'r'])"
   ]
  },
  {
   "cell_type": "markdown",
   "metadata": {},
   "source": [
    "TASK\n",
    "\n",
    "You are given a set A and N number of other sets. These N number of sets have to perform some specific mutation operations on set A.\n",
    "\n",
    "Your task is to execute those operations and print the sum of elements from A set."
   ]
  },
  {
   "cell_type": "code",
   "execution_count": null,
   "metadata": {},
   "outputs": [],
   "source": [
    "# python 2\n",
    "\n",
    "\n",
    "from __future__ import print_function\n",
    "\n",
    "(_,A)=(int(raw_input()),set(map(int,raw_input().split())))\n",
    "\n",
    "for _ in range(int(raw_input())):\n",
    "    (C, B)=(raw_input().split()[0], set(map(int,raw_input().split())))\n",
    "    getattr(A,C)(B)\n",
    "print(sum(A))"
   ]
  },
  {
   "cell_type": "code",
   "execution_count": null,
   "metadata": {},
   "outputs": [],
   "source": [
    "# python 3\n",
    "\n",
    "(_,A)=(int(input()),set(map(int,input().split())))\n",
    "\n",
    "for _ in range(int(input())):\n",
    "    (C, B)=(input().split()[0], set(map(int,input().split())))\n",
    "    exec(\"A.{0}({1})\".format(C,B))\n",
    "print(sum(A))"
   ]
  }
 ],
 "metadata": {
  "kernelspec": {
   "display_name": "Python 2",
   "language": "python",
   "name": "python2"
  },
  "language_info": {
   "codemirror_mode": {
    "name": "ipython",
    "version": 2
   },
   "file_extension": ".py",
   "mimetype": "text/x-python",
   "name": "python",
   "nbconvert_exporter": "python",
   "pygments_lexer": "ipython2",
   "version": "2.7.15"
  }
 },
 "nbformat": 4,
 "nbformat_minor": 2
}
