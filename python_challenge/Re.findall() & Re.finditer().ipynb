{
 "cells": [
  {
   "cell_type": "markdown",
   "metadata": {},
   "source": [
    "# Re.findall() & Re.finditer()"
   ]
  },
  {
   "cell_type": "markdown",
   "metadata": {},
   "source": [
    "### re.findall()\n",
    "\n",
    "The expression re.findall() returns all the non-overlapping matches of patterns in a string as a list of strings.\n",
    "Code\n",
    "\n",
    ">>> import re\n",
    "\n",
    ">>> re.findall(r'\\w','http://www.hackerrank.com/')\n",
    "\n",
    "['h', 't', 't', 'p', 'w', 'w', 'w', 'h', 'a', 'c', 'k', 'e', 'r', 'r', 'a', 'n', 'k', 'c', 'o', 'm']\n",
    "\n",
    "### re.finditer()\n",
    "\n",
    "The expression re.finditer() returns an iterator yielding MatchObject instances over all non-overlapping matches for the re pattern in the string.\n",
    "\n",
    "### Code\n",
    "\n",
    ">>> import re\n",
    "\n",
    ">>> re.finditer(r'\\w','http://www.hackerrank.com/')\n",
    "\n",
    "<callable-iterator object at 0x0266C790>\n",
    "\n",
    ">>> map(lambda x: x.group(),re.finditer(r'\\w','http://www.hackerrank.com/'))\n",
    "\n",
    "['h', 't', 't', 'p', 'w', 'w', 'w', 'h', 'a', 'c', 'k', 'e', 'r', 'r', 'a', 'n', 'k', 'c', 'o', 'm']\n",
    "\n",
    "### Task\n",
    "\n",
    "You are given a string . It consists of alphanumeric characters, spaces and symbols(+,-).\n",
    "Your task is to find all the substrings of  that contains  or more vowels.\n",
    "Also, these substrings must lie in between  consonants and should contain vowels only.\n",
    "\n",
    "Note :\n",
    "\n",
    "Vowels are defined as: AEIOU and aeiou.\n",
    "Consonants are defined as: QWRTYPSDFGHJKLZXCVBNM and qwrtypsdfghjklzxcvbnm.\n",
    "\n",
    "Input Format\n",
    "\n",
    "A single line of input containing string S.\n",
    "\n",
    "Constraints\n",
    "\n",
    "\n",
    "Output Format\n",
    "\n",
    "Print the matched substrings in their order of occurrence on separate lines.\n",
    "If no match is found, print -1.\n",
    "\n",
    "Sample Input\n",
    "\n",
    "### rabcdeefgyYhFjkIoomnpOeorteeeeet\n",
    "\n",
    "### Sample Output\n",
    "\n",
    "ee\n",
    "Ioo\n",
    "Oeo\n",
    "eeeee\n",
    "\n",
    "### Explanation\n",
    "\n",
    "ee is located between consonant d and f.\n",
    "Ioo is located between consonant k and m.\n",
    "Oeo is located between consonant p and r.\n",
    "eeeee is located between consonant t and t."
   ]
  },
  {
   "cell_type": "code",
   "execution_count": 1,
   "metadata": {},
   "outputs": [
    {
     "name": "stdout",
     "output_type": "stream",
     "text": [
      "rabcdeefgyYhFjkIoomnpOeorteeeeet\n",
      "ee\n",
      "Ioo\n",
      "Oeo\n",
      "eeeee\n"
     ]
    }
   ],
   "source": [
    "# python 2\n",
    "\n",
    "from __future__ import print_function\n",
    "import re\n",
    "\n",
    "c='QWRTYPSDFGHJKLZXCVBNMqwrtypsdfghjklzxcvbnm'\n",
    "v='AEIOUaeiou'\n",
    "\n",
    "regrex='(?<=['+c+'])(['+v+']{2,})(?=['+c+'])'\n",
    "\n",
    "match=re.findall(regrex,raw_input(), re.IGNORECASE)\n",
    "\n",
    "if match:\n",
    "    print(*match, sep='\\n')\n",
    "else:\n",
    "    print(-1)"
   ]
  },
  {
   "cell_type": "code",
   "execution_count": null,
   "metadata": {},
   "outputs": [],
   "source": [
    "# python 3\n",
    "\n",
    "import re\n",
    "\n",
    "c='QWRTYPSDFGHJKLZXCVBNMqwrtypsdfghjklzxcvbnm'\n",
    "v='AEIOUaeiou'\n",
    "regrex='(?<=['+c+'])(['+v+']{2,})(?=['+c+'])'\n",
    "\n",
    "match=re.findall(regrex,input(),re.I)\n",
    "\n",
    "if match:\n",
    "    print(*match, sep='\\n')\n",
    "else:\n",
    "    print('-1')"
   ]
  }
 ],
 "metadata": {
  "kernelspec": {
   "display_name": "Python 2",
   "language": "python",
   "name": "python2"
  },
  "language_info": {
   "codemirror_mode": {
    "name": "ipython",
    "version": 2
   },
   "file_extension": ".py",
   "mimetype": "text/x-python",
   "name": "python",
   "nbconvert_exporter": "python",
   "pygments_lexer": "ipython2",
   "version": "2.7.15"
  }
 },
 "nbformat": 4,
 "nbformat_minor": 2
}
