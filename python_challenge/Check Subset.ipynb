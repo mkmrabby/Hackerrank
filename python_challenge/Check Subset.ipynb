{
 "cells": [
  {
   "cell_type": "markdown",
   "metadata": {},
   "source": [
    "# Check Subset"
   ]
  },
  {
   "cell_type": "markdown",
   "metadata": {},
   "source": [
    "Input Format\n",
    "\n",
    "The first line will contain the number of test cases, T.\n",
    "\n",
    "The first line of each test case contains the number of elements in set A.\n",
    "\n",
    "The second line of each test case contains the space separated elements of set A.\n",
    "\n",
    "The third line of each test case contains the number of elements in set B.\n",
    "\n",
    "The fourth line of each test case contains the space separated elements of set B."
   ]
  },
  {
   "cell_type": "code",
   "execution_count": null,
   "metadata": {},
   "outputs": [],
   "source": [
    "# python 2\n",
    "from __future__ import print_function\n",
    "\n",
    "for _ in range(int(raw_input())):\n",
    "    na=int(raw_input())\n",
    "    a=set(map(int, raw_input().split()))\n",
    "    nb=int(raw_input())\n",
    "    b=set(map(int, raw_input().split()))\n",
    "\n",
    "    if b==b.union(a):\n",
    "        print(True)\n",
    "    else:\n",
    "        print(False)"
   ]
  },
  {
   "cell_type": "code",
   "execution_count": null,
   "metadata": {},
   "outputs": [],
   "source": [
    "# python 3\n",
    "\n",
    "for _ in range(int(input())):\n",
    "    na=int(input())\n",
    "    a=set(map(int, input().split()))\n",
    "    nb=int(input())\n",
    "    b=set(map(int, input().split()))\n",
    "\n",
    "    print(a.issubset(b))"
   ]
  }
 ],
 "metadata": {
  "kernelspec": {
   "display_name": "Python 2",
   "language": "python",
   "name": "python2"
  },
  "language_info": {
   "codemirror_mode": {
    "name": "ipython",
    "version": 2
   },
   "file_extension": ".py",
   "mimetype": "text/x-python",
   "name": "python",
   "nbconvert_exporter": "python",
   "pygments_lexer": "ipython2",
   "version": "2.7.15"
  }
 },
 "nbformat": 4,
 "nbformat_minor": 2
}
