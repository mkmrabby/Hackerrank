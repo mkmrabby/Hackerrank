{
 "cells": [
  {
   "cell_type": "markdown",
   "metadata": {},
   "source": [
    "# Array Mathematics"
   ]
  },
  {
   "cell_type": "markdown",
   "metadata": {},
   "source": [
    "Basic mathematical functions operate element-wise on arrays. They are available both as operator overloads and as functions in the NumPy module.\n",
    "\n",
    "import numpy\n",
    "\n",
    "a = numpy.array([1,2,3,4], float)\n",
    "b = numpy.array([5,6,7,8], float)\n",
    "\n",
    "\n",
    "print a + b                     #[  6.   8.  10.  12.]\n",
    "\n",
    "print numpy.add(a, b)           #[  6.   8.  10.  12.]\n",
    "\n",
    "\n",
    "print a - b                     #[-4. -4. -4. -4.]\n",
    "\n",
    "print numpy.subtract(a, b)      #[-4. -4. -4. -4.]\n",
    "\n",
    "\n",
    "print a * b                     #[  5.  12.  21.  32.]\n",
    "\n",
    "print numpy.multiply(a, b)      #[  5.  12.  21.  32.]\n",
    "\n",
    "\n",
    "print a / b                     #[ 0.2         0.33333333  0.42857143  0.5       ]\n",
    "\n",
    "print numpy.divide(a, b)        #[ 0.2         0.33333333  0.42857143  0.5       ]\n",
    "\n",
    "print a % b                     #[ 1.  2.  3.  4.]\n",
    "\n",
    "print numpy.mod(a, b)           #[ 1.  2.  3.  4.]\n",
    "\n",
    "\n",
    "print a**b                      #[  1.00000000e+00   6.40000000e+01   2.18700000e+03   6.55360000e+04]\n",
    "\n",
    "print numpy.power(a, b)         #[  1.00000000e+00   6.40000000e+01   2.18700000e+03   6.55360000e+04]"
   ]
  },
  {
   "cell_type": "markdown",
   "metadata": {},
   "source": [
    "Task\n",
    "\n",
    "You are given two integer arrays, A and B of dimensions N X M.\n",
    "Your task is to perform the following operations:\n",
    "\n",
    "Add (A + B)\n",
    "Subtract (A - B)\n",
    "Multiply (A * B)\n",
    "Integer Division (A / B)\n",
    "Mod (A % B)\n",
    "Power (A ** B)\n",
    "\n",
    "Input Format\n",
    "\n",
    "The first line contains two space separated integers, N and M.\n",
    "The next N lines contains M space separated integers of array A.\n",
    "The following N lines contains M space separated integers of array B.\n",
    "\n",
    "Output Format\n",
    "\n",
    "Print the result of each operation in the given order under Task.\n",
    "\n",
    "Sample Input\n",
    "\n",
    "1 4\n",
    "1 2 3 4\n",
    "5 6 7 8\n",
    "Sample Output\n",
    "\n",
    "[[ 6  8 10 12]]\n",
    "\n",
    "[[-4 -4 -4 -4]]\n",
    "\n",
    "[[ 5 12 21 32]]\n",
    "\n",
    "[[0 0 0 0]]\n",
    "\n",
    "[[1 2 3 4]]\n",
    "\n",
    "[[    1    64  2187 65536]] \n",
    "\n",
    "Use // for division in Python 3."
   ]
  },
  {
   "cell_type": "code",
   "execution_count": 4,
   "metadata": {},
   "outputs": [],
   "source": [
    "## python 2\n",
    "\n",
    "from __future__ import print_function\n",
    "import numpy as np\n",
    "\n",
    "n, m=map(int, raw_input().split())\n",
    "a,b =(np.array([raw_input().split() for _ in range(n)],dtype=int) for _ in range(2))\n",
    "print (a+b, a-b, a*b, a//b, a%b, a**b, sep =\"\\n\")"
   ]
  },
  {
   "cell_type": "code",
   "execution_count": null,
   "metadata": {},
   "outputs": [],
   "source": [
    "## python 3\n",
    "\n",
    "import numpy as np\n",
    "\n",
    "n, m=map(int, input().split())\n",
    "a,b =(np.array([input().split() for _ in range(n)],dtype=int) for _ in range(2))\n",
    "print (a+b, a-b, a*b, a//b, a%b, a**b, sep ='\\n')"
   ]
  }
 ],
 "metadata": {
  "kernelspec": {
   "display_name": "Python 3",
   "language": "python",
   "name": "python3"
  },
  "language_info": {
   "codemirror_mode": {
    "name": "ipython",
    "version": 3
   },
   "file_extension": ".py",
   "mimetype": "text/x-python",
   "name": "python",
   "nbconvert_exporter": "python",
   "pygments_lexer": "ipython3",
   "version": "3.6.5"
  }
 },
 "nbformat": 4,
 "nbformat_minor": 2
}
