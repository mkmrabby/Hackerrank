{
 "cells": [
  {
   "cell_type": "markdown",
   "metadata": {},
   "source": [
    "# Validating phone numbers"
   ]
  },
  {
   "cell_type": "markdown",
   "metadata": {},
   "source": [
    "Let's dive into the interesting topic of regular expressions! You are given some input, and you are required to check whether they are valid mobile numbers.\n",
    "\n",
    "A valid mobile number is a ten digit number starting with a 7, 8 or 9.\n",
    "\n",
    "## Concept\n",
    "\n",
    "A valid mobile number is a ten digit number starting with a 7, 8 or 9.\n",
    "\n",
    "Regular expressions are a key concept in any programming language. A quick explanation with Python examples is available here. You could also go through the link below to read more about regular expressions in Python.\n",
    "\n",
    "https://developers.google.com/edu/python/regular-expressions\n",
    "\n",
    "## Input Format\n",
    "\n",
    "The first line contains an integer N, the number of inputs.\n",
    "\n",
    "N lines follow, each containing some string.\n",
    "\n",
    "## Constraints\n",
    "1<=N<=10\n",
    "\n",
    "2<=len(Number)<=15\n",
    "\n",
    "\n",
    "## Output Format\n",
    "\n",
    "For every string listed, print \"YES\" if it is a valid mobile number and \"NO\" if it is not on separate lines. Do not print the quotes.\n",
    "\n",
    "## Sample Input\n",
    "\n",
    "2\n",
    "\n",
    "9587456281\n",
    "\n",
    "1252478965\n",
    "\n",
    "## Sample Output\n",
    "\n",
    "YES\n",
    "\n",
    "NO"
   ]
  },
  {
   "cell_type": "code",
   "execution_count": null,
   "metadata": {},
   "outputs": [],
   "source": [
    "# python 2\n",
    "\n",
    "from __future__ import print_function\n",
    "import re\n",
    "\n",
    "N=int(raw_input())\n",
    "\n",
    "for i in range(N):\n",
    "    if re.match(r'[789]\\d{9}', raw_input()):\n",
    "        print('YES')\n",
    "    else:\n",
    "        print('NO')"
   ]
  },
  {
   "cell_type": "code",
   "execution_count": 2,
   "metadata": {},
   "outputs": [
    {
     "name": "stdout",
     "output_type": "stream",
     "text": [
      "2\n",
      "9587456281\n",
      "YES\n",
      "1252478965\n",
      "NO\n"
     ]
    }
   ],
   "source": [
    "# python 3\n",
    "\n",
    "import re\n",
    "\n",
    "N=int(input())\n",
    "\n",
    "for i in range(N):\n",
    "    if re.match(r'[789]\\d{9}$', input()):\n",
    "        print('YES')\n",
    "    else:\n",
    "        print('NO')"
   ]
  }
 ],
 "metadata": {
  "kernelspec": {
   "display_name": "Python 3",
   "language": "python",
   "name": "python3"
  },
  "language_info": {
   "codemirror_mode": {
    "name": "ipython",
    "version": 3
   },
   "file_extension": ".py",
   "mimetype": "text/x-python",
   "name": "python",
   "nbconvert_exporter": "python",
   "pygments_lexer": "ipython3",
   "version": "3.6.5"
  }
 },
 "nbformat": 4,
 "nbformat_minor": 2
}
