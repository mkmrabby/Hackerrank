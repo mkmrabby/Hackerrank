{
 "cells": [
  {
   "cell_type": "markdown",
   "metadata": {},
   "source": [
    "# Athlete Sort"
   ]
  },
  {
   "cell_type": "markdown",
   "metadata": {},
   "source": [
    "You are given a spreadsheet that contains a list of N athletes and their details (such as age, height, weight and so on). You are required to sort the data based on the Kth attribute and print the final resulting table. Follow the example given below for better understanding.\n",
    "\n",
    "image\n",
    "\n",
    "Note that K is indexed from 0 to M-1, where M is the number of attributes.\n",
    "\n",
    "### Note: \n",
    "If two attributes are the same for different rows, for example, if two atheletes are of the same age, print the row that appeared first in the input.\n",
    "\n",
    "### Input Format\n",
    "\n",
    "The first line contains N and M separated by a space.\n",
    "\n",
    "The next N lines each contain M elements.\n",
    "\n",
    "The last line contains K.\n",
    "\n",
    "\n",
    "### Constraints\n",
    "\n",
    "1<=N, M<=1000\n",
    "\n",
    "0<=K<M\n",
    "\n",
    "\n",
    "Each element <= 1000\n",
    "\n",
    "### Output Format\n",
    "\n",
    "Print the N lines of the sorted table. Each line should contain the space separated elements. Check the sample below for clarity.\n",
    "\n",
    "Sample Input 0\n",
    "\n",
    "5 3\n",
    "\n",
    "10 2 5\n",
    "\n",
    "7 1 0\n",
    "\n",
    "9 9 9\n",
    "\n",
    "1 23 12\n",
    "\n",
    "6 5 9\n",
    "\n",
    "1\n",
    "\n",
    "Sample Output 0\n",
    "\n",
    "7 1 0\n",
    "\n",
    "10 2 5\n",
    "\n",
    "6 5 9\n",
    "\n",
    "9 9 9\n",
    "\n",
    "1 23 12\n",
    "\n",
    "Explanation 0\n",
    "\n",
    "The details are sorted based on the second attribute, since K is zero-indexed."
   ]
  },
  {
   "cell_type": "code",
   "execution_count": 32,
   "metadata": {},
   "outputs": [
    {
     "name": "stdout",
     "output_type": "stream",
     "text": [
      "5 3\n",
      "10 2 5\n",
      "7 1 0\n",
      "9 9 9\n",
      "1 23 12\n",
      "6 5 9\n",
      "1\n",
      "7 1 0\n",
      "10 2 5\n",
      "6 5 9\n",
      "9 9 9\n",
      "1 23 12\n"
     ]
    }
   ],
   "source": [
    "# python 2\n",
    "\n",
    "from __future__ import print_function\n",
    "\n",
    "N, M=map(int, raw_input().split())\n",
    "\n",
    "arr=[raw_input() for _ in range(N)]\n",
    "\n",
    "k=int(input())\n",
    "\n",
    "for row in sorted(arr, key=lambda row: int(row.split()[k])):\n",
    "    print(row)"
   ]
  },
  {
   "cell_type": "code",
   "execution_count": null,
   "metadata": {},
   "outputs": [],
   "source": [
    "# python 3\n",
    "\n",
    "N, M= map(int, input().split())\n",
    "arr=[input() for _ in range(N)]\n",
    "k=int(input())\n",
    "for row in sorted(arr, key=lambda row: int(row.split()[k])):\n",
    "    print(row)"
   ]
  }
 ],
 "metadata": {
  "kernelspec": {
   "display_name": "Python 2",
   "language": "python",
   "name": "python2"
  },
  "language_info": {
   "codemirror_mode": {
    "name": "ipython",
    "version": 2
   },
   "file_extension": ".py",
   "mimetype": "text/x-python",
   "name": "python",
   "nbconvert_exporter": "python",
   "pygments_lexer": "ipython2",
   "version": "2.7.15"
  }
 },
 "nbformat": 4,
 "nbformat_minor": 2
}
