{
 "cells": [
  {
   "cell_type": "markdown",
   "metadata": {},
   "source": [
    "# Word Order"
   ]
  },
  {
   "cell_type": "markdown",
   "metadata": {},
   "source": [
    "You are given  words. Some words may repeat. For each word, output its number of occurrences. The output order should correspond with the input order of appearance of the word. See the sample input/output for clarification.\n",
    "\n",
    "Note: Each input line ends with a \"\\n\" character.\n",
    "\n",
    "\n",
    "Input Format\n",
    "\n",
    "The first line contains the integer, n.\n",
    "The next n lines each contain a word.\n",
    "\n",
    "Output Format\n",
    "\n",
    "Output 2 lines.\n",
    "On the first line, output the number of distinct words from the input.\n",
    "On the second line, output the number of occurrences for each distinct word according to their appearance in the input."
   ]
  },
  {
   "cell_type": "code",
   "execution_count": null,
   "metadata": {},
   "outputs": [],
   "source": [
    "# python 2\n",
    "\n",
    "from __future__ import print_function\n",
    "from collections import OrderedDict, Counter\n",
    "\n",
    "class WordCounter(Counter, OrderedDict):\n",
    "    pass\n",
    "\n",
    "output=WordCounter(raw_input() for _ in range(int(raw_input())))\n",
    "\n",
    "print(len(output))\n",
    "\n",
    "print(*output.values())"
   ]
  },
  {
   "cell_type": "code",
   "execution_count": null,
   "metadata": {},
   "outputs": [],
   "source": [
    "# python 3\n",
    "\n",
    "from collections import OrderedDict, Counter\n",
    "\n",
    "class WordCounter(Counter, OrderedDict):\n",
    "    pass\n",
    "\n",
    "output=WordCounter(input() for _ in range(int(input())))\n",
    "\n",
    "print(len(output))\n",
    "\n",
    "print(*output.values())"
   ]
  }
 ],
 "metadata": {
  "kernelspec": {
   "display_name": "Python 2",
   "language": "python",
   "name": "python2"
  },
  "language_info": {
   "codemirror_mode": {
    "name": "ipython",
    "version": 2
   },
   "file_extension": ".py",
   "mimetype": "text/x-python",
   "name": "python",
   "nbconvert_exporter": "python",
   "pygments_lexer": "ipython2",
   "version": "2.7.15"
  }
 },
 "nbformat": 4,
 "nbformat_minor": 2
}
