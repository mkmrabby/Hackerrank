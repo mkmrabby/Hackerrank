{
 "cells": [
  {
   "cell_type": "markdown",
   "metadata": {},
   "source": [
    "# Company Logo"
   ]
  },
  {
   "cell_type": "markdown",
   "metadata": {},
   "source": [
    "A newly opened multinational brand has decided to base their company logo on the three most common characters in the company name. They are now trying out various combinations of company names and logos based on this condition. Given a string s, which is the company name in lowercase letters, your task is to find the top three most common characters in the string.\n",
    "\n",
    "- Print the three most common characters along with their occurrence count.\n",
    "- Sort in descending order of occurrence count.\n",
    "- If the occurrence count is the same, sort the characters in alphabetical order.\n",
    "\n",
    "For example, according to the conditions described above,\n",
    "\n",
    "GOOGLE would have it's logo with the letters G, O, E.\n",
    "\n",
    "Input Format\n",
    "\n",
    "A single line of input containing the string S.\n",
    "\n",
    "Constraints\n",
    "\n",
    "Output Format\n",
    "\n",
    "Print the three most common characters along with their occurrence count each on a separate line.\n",
    "Sort output in descending order of occurrence count.\n",
    "If the occurrence count is the same, sort the characters in alphabetical order.\n",
    "\n",
    "Sample Input 0\n",
    "\n",
    "aabbbccde\n",
    "Sample Output 0\n",
    "\n",
    "b 3\n",
    "a 2\n",
    "c 2\n",
    "Explanation 0\n",
    "\n",
    "\n",
    "Here, b occurs 3 times. It is printed first.\n",
    "Both a and c occur 2 times. So, a is printed in the second line and c in the third line because a comes before c in the alphabet.\n",
    "\n",
    "Note: The string S has at least 3 distinct characters."
   ]
  },
  {
   "cell_type": "code",
   "execution_count": null,
   "metadata": {},
   "outputs": [],
   "source": [
    "# python 2\n",
    "\n",
    "from __future__ import print_function\n",
    "from collections import Counter, OrderedDict\n",
    "\n",
    "class OrderedLogo(Counter, OrderedDict):\n",
    "    pass\n",
    "\n",
    "[print(*c) for c in OrderedLogo(sorted(raw_input())).most_common(3)]"
   ]
  },
  {
   "cell_type": "code",
   "execution_count": null,
   "metadata": {},
   "outputs": [],
   "source": [
    "# python 3\n",
    "\n",
    "from collections import Counter, OrderedDict\n",
    "\n",
    "class OrderedLogo(Counter, OrderedDict):\n",
    "    pass\n",
    "\n",
    "[print(*c) for c in OrderedLogo(sorted(input())).most_common(3)]"
   ]
  }
 ],
 "metadata": {
  "kernelspec": {
   "display_name": "Python 2",
   "language": "python",
   "name": "python2"
  },
  "language_info": {
   "codemirror_mode": {
    "name": "ipython",
    "version": 2
   },
   "file_extension": ".py",
   "mimetype": "text/x-python",
   "name": "python",
   "nbconvert_exporter": "python",
   "pygments_lexer": "ipython2",
   "version": "2.7.15"
  }
 },
 "nbformat": 4,
 "nbformat_minor": 2
}
