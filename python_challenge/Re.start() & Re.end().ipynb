{
 "cells": [
  {
   "cell_type": "markdown",
   "metadata": {},
   "source": [
    "# Re.start() & Re.end()"
   ]
  },
  {
   "cell_type": "markdown",
   "metadata": {},
   "source": [
    "### start() & end()\n",
    "\n",
    "These expressions return the indices of the start and end of the substring matched by the group.\n",
    "\n",
    "Code\n",
    "\n",
    ">>> import re\n",
    "\n",
    ">>> m = re.search(r'\\d+','1234')\n",
    "\n",
    ">>> m.end()\n",
    "\n",
    "4\n",
    ">>> m.start()\n",
    "\n",
    "0\n",
    "\n",
    "### Task\n",
    "\n",
    "You are given a string S.\n",
    "Your task is to find the indices of the start and end of string k in S.\n",
    "\n",
    "### Input Format\n",
    "\n",
    "The first line contains the string S.\n",
    "The second line contains the string k.\n",
    "\n",
    "### Constraints\n",
    "\n",
    "0<len(S)<100\n",
    "\n",
    "0<len(k)<len(S)\n",
    "\n",
    "\n",
    "### Output Format\n",
    "\n",
    "Print the tuple in this format: (start _index, end _index).\n",
    "If no match is found, print (-1, -1).\n",
    "\n",
    "### Sample Input\n",
    "\n",
    "aaadaa\n",
    "\n",
    "aa\n",
    "\n",
    "### Sample Output\n",
    "\n",
    "(0, 1)  \n",
    "(1, 2)\n",
    "(4, 5)"
   ]
  },
  {
   "cell_type": "code",
   "execution_count": 2,
   "metadata": {},
   "outputs": [
    {
     "name": "stdout",
     "output_type": "stream",
     "text": [
      "aaadaa\n",
      "aa\n",
      "(0, 1)\n",
      "(1, 2)\n",
      "(4, 5)\n"
     ]
    }
   ],
   "source": [
    "# python 2\n",
    "\n",
    "from __future__ import print_function\n",
    "import re\n",
    "\n",
    "S=raw_input()\n",
    "k=raw_input()\n",
    "\n",
    "pattern=re.compile(k)\n",
    "r=pattern.search(S)\n",
    "\n",
    "if not r: print('(-1, -1)')\n",
    "\n",
    "while r:\n",
    "    print('({0}, {1})'.format(r.start(), r.end()-1))\n",
    "    r=pattern.search(S, r.start()+1)"
   ]
  },
  {
   "cell_type": "code",
   "execution_count": null,
   "metadata": {},
   "outputs": [],
   "source": [
    "# python 3\n",
    "\n",
    "import re\n",
    "\n",
    "S=input()\n",
    "k=input()\n",
    "\n",
    "pattern=re.compile(k)\n",
    "r=pattern.search(S)\n",
    "\n",
    "if not r: print('(-1, -1)')\n",
    "\n",
    "while r:\n",
    "    print('({0}, {1})'.format(r.start(),r.end()-1))\n",
    "    r=pattern.search(S,r.start()+1)"
   ]
  }
 ],
 "metadata": {
  "kernelspec": {
   "display_name": "Python 2",
   "language": "python",
   "name": "python2"
  },
  "language_info": {
   "codemirror_mode": {
    "name": "ipython",
    "version": 2
   },
   "file_extension": ".py",
   "mimetype": "text/x-python",
   "name": "python",
   "nbconvert_exporter": "python",
   "pygments_lexer": "ipython2",
   "version": "2.7.15"
  }
 },
 "nbformat": 4,
 "nbformat_minor": 2
}
