{
 "cells": [
  {
   "cell_type": "markdown",
   "metadata": {},
   "source": [
    "# No Idea!"
   ]
  },
  {
   "cell_type": "markdown",
   "metadata": {},
   "source": [
    "Input Format\n",
    "\n",
    "The first line contains integers n and m separated by a space.\n",
    "The second line contains  integers, the elements of the array.\n",
    "The third and fourth lines contain m integers, A and B, respectively.\n",
    "\n",
    "Output Format\n",
    "\n",
    "Output a single integer, your total happiness."
   ]
  },
  {
   "cell_type": "code",
   "execution_count": null,
   "metadata": {},
   "outputs": [],
   "source": [
    "# python 2\n",
    "\n",
    "from __future__ import print_function\n",
    "\n",
    "common_set_element_no, AB_set_no=raw_input().split()\n",
    "common_set_element=raw_input().split()\n",
    "set_A=set(raw_input().split())\n",
    "set_B=set(raw_input().split())\n",
    "\n",
    "\n",
    "print(sum([(i in set_A)-(i in set_B) for i in common_set_element]))"
   ]
  },
  {
   "cell_type": "code",
   "execution_count": null,
   "metadata": {},
   "outputs": [],
   "source": [
    "# python 3\n",
    "\n",
    "\n",
    "common_set_element_no, AB_set_no=input().split()\n",
    "common_set_element=input().split()\n",
    "set_A=set(input().split())\n",
    "set_B=set(input().split())\n",
    "\n",
    "\n",
    "print(sum([(i in set_A)-(i in set_B) for i in common_set_element]))"
   ]
  }
 ],
 "metadata": {
  "kernelspec": {
   "display_name": "Python 3",
   "language": "python",
   "name": "python3"
  },
  "language_info": {
   "codemirror_mode": {
    "name": "ipython",
    "version": 3
   },
   "file_extension": ".py",
   "mimetype": "text/x-python",
   "name": "python",
   "nbconvert_exporter": "python",
   "pygments_lexer": "ipython3",
   "version": "3.6.5"
  }
 },
 "nbformat": 4,
 "nbformat_minor": 2
}
