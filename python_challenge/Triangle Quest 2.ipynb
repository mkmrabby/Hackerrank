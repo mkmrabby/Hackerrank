{
 "cells": [
  {
   "cell_type": "markdown",
   "metadata": {},
   "source": [
    "# Triangle Quest 2"
   ]
  },
  {
   "cell_type": "markdown",
   "metadata": {},
   "source": [
    "You are given a positive integer N.\n",
    "Your task is to print a palindromic triangle of size N.\n",
    "\n",
    "For example, a palindromic triangle of size 5 is:\n",
    "\n",
    "1\n",
    "\n",
    "121\n",
    "\n",
    "12321\n",
    "\n",
    "1234321\n",
    "\n",
    "123454321\n",
    "\n",
    "\n",
    "You can't take more than two lines. The first line (a for-statement) is already written for you.\n",
    "You have to complete the code using exactly one print statement."
   ]
  },
  {
   "cell_type": "code",
   "execution_count": 4,
   "metadata": {},
   "outputs": [],
   "source": [
    "# python 2\n",
    "\n",
    "for i in range(1,int(raw_input())+1): #More than 2 lines will result in 0 score. Do not leave a blank line also\n",
    "    print ((10**i-1)//9)**2\n"
   ]
  },
  {
   "cell_type": "code",
   "execution_count": null,
   "metadata": {},
   "outputs": [],
   "source": [
    "# python 3\n",
    "\n",
    "for i in range(1,int(input())+1): #More than 2 lines will result in 0 score. Do not leave a blank line also\n",
    "    print( ((10**i-1)//9)**2 ) "
   ]
  }
 ],
 "metadata": {
  "kernelspec": {
   "display_name": "Python 3",
   "language": "python",
   "name": "python3"
  },
  "language_info": {
   "codemirror_mode": {
    "name": "ipython",
    "version": 3
   },
   "file_extension": ".py",
   "mimetype": "text/x-python",
   "name": "python",
   "nbconvert_exporter": "python",
   "pygments_lexer": "ipython3",
   "version": "3.6.5"
  }
 },
 "nbformat": 4,
 "nbformat_minor": 2
}
