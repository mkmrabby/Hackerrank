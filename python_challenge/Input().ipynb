{
 "cells": [
  {
   "cell_type": "markdown",
   "metadata": {},
   "source": [
    "# Input()"
   ]
  },
  {
   "cell_type": "markdown",
   "metadata": {},
   "source": [
    "This challenge is only forPython 2.\n",
    "\n",
    "input()\n",
    "\n",
    "In Python 2, the expression input() is equivalent to eval(raw _input(prompt)).\n",
    "\n",
    "Code\n",
    "\n",
    ">>> input()  \n",
    "\n",
    "1+2\n",
    "\n",
    "3\n",
    "\n",
    ">>> company = 'HackerRank'\n",
    "\n",
    ">>> website = 'www.hackerrank.com'\n",
    "\n",
    ">>> input()\n",
    "\n",
    "'The company name: '+company+' and website: '+website\n",
    "\n",
    "'The company name: HackerRank and website: www.hackerrank.com'\n",
    "\n",
    "Task\n",
    "\n",
    "You are given a polynomial P of a single indeterminate (or variable), x.\n",
    "\n",
    "You are also given the values of x and k. Your task is to verify if P(x)=k.\n",
    "\n",
    "Constraints\n",
    "\n",
    "All coefficients of polynomial P are integers.\n",
    "\n",
    "x and y are also integers.\n",
    "\n",
    "Input Format\n",
    "\n",
    "The first line contains the space separated values of x and k.\n",
    "\n",
    "The second line contains the polynomial P.\n",
    "\n",
    "Output Format\n",
    "\n",
    "Print True if P(x)=k. Otherwise, print False.\n",
    "\n",
    "Sample Input\n",
    "\n",
    "1 4\n",
    "\n",
    "x**3 + x**2 + x + 1\n",
    "\n",
    "Sample Output\n",
    "\n",
    "True\n",
    "\n",
    "Explanation\n",
    "\n",
    "P(1)=1^3+1^2+1+1=4=k\n",
    "\n",
    "Hence, the output is True."
   ]
  },
  {
   "cell_type": "code",
   "execution_count": 4,
   "metadata": {},
   "outputs": [],
   "source": [
    "## python 2\n",
    "\n",
    "from __future__ import print_function\n",
    "\n",
    "x, k= map(int, raw_input().split())\n",
    "print(k==input())"
   ]
  },
  {
   "cell_type": "code",
   "execution_count": null,
   "metadata": {},
   "outputs": [],
   "source": [
    "## python 3\n",
    "\n",
    "x, k= map(int, input().split())\n",
    "print(k==eval(input()))"
   ]
  }
 ],
 "metadata": {
  "kernelspec": {
   "display_name": "Python 3",
   "language": "python",
   "name": "python3"
  },
  "language_info": {
   "codemirror_mode": {
    "name": "ipython",
    "version": 3
   },
   "file_extension": ".py",
   "mimetype": "text/x-python",
   "name": "python",
   "nbconvert_exporter": "python",
   "pygments_lexer": "ipython3",
   "version": "3.6.5"
  }
 },
 "nbformat": 4,
 "nbformat_minor": 2
}
