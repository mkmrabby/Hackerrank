{
 "cells": [
  {
   "cell_type": "markdown",
   "metadata": {},
   "source": [
    "# Concatenate"
   ]
  },
  {
   "cell_type": "markdown",
   "metadata": {},
   "source": [
    "Concatenate\n",
    "\n",
    "Two or more arrays can be concatenated together using the concatenate function with a tuple of the arrays to be joined:\n",
    "\n",
    "import numpy\n",
    "\n",
    "array_1 = numpy.array([1,2,3])\n",
    "array_2 = numpy.array([4,5,6])\n",
    "array_3 = numpy.array([7,8,9])\n",
    "\n",
    "print numpy.concatenate((array_1, array_2, array_3))    \n",
    "\n",
    "#Output\n",
    "[1 2 3 4 5 6 7 8 9]\n",
    "If an array has more than one dimension, it is possible to specify the axis along which multiple arrays are concatenated. By default, it is along the first dimension.\n",
    "\n",
    "import numpy\n",
    "\n",
    "array_1 = numpy.array([[1,2,3],[0,0,0]])\n",
    "array_2 = numpy.array([[0,0,0],[7,8,9]])\n",
    "\n",
    "print numpy.concatenate((array_1, array_2), axis = 1)   \n",
    "\n",
    "#Output\n",
    "[[1 2 3 0 0 0]\n",
    " [0 0 0 7 8 9]]    "
   ]
  },
  {
   "cell_type": "markdown",
   "metadata": {},
   "source": [
    "Task\n",
    "\n",
    "You are given two integer arrays of size N X P and M X P ( N & M are rows, and P is the column). Your task is to concatenate the arrays along axis 0.\n",
    "\n",
    "Input Format\n",
    "\n",
    "The first line contains space separated integers N, M and P.\n",
    "The next N lines contains the space separated elements of the P columns.\n",
    "After that, the next M lines contains the space separated elements of the P columns.\n",
    "\n",
    "Output Format\n",
    "\n",
    "Print the concatenated array of size (N+M) X P.\n",
    "\n",
    "Sample Input\n",
    "\n",
    "4 3 2\n",
    "1 2\n",
    "1 2 \n",
    "1 2\n",
    "1 2\n",
    "3 4\n",
    "3 4\n",
    "3 4 \n",
    "Sample Output\n",
    "\n",
    "[[1 2]\n",
    " [1 2]\n",
    " [1 2]\n",
    " [1 2]\n",
    " [3 4]\n",
    " [3 4]\n",
    " [3 4]] "
   ]
  },
  {
   "cell_type": "code",
   "execution_count": null,
   "metadata": {},
   "outputs": [],
   "source": []
  },
  {
   "cell_type": "code",
   "execution_count": null,
   "metadata": {},
   "outputs": [],
   "source": [
    "# puthon 3\n",
    "\n",
    "import numpy as np\n",
    "\n",
    "N, M, P = map(int, input().split())\n",
    "NLines=np.array([input().split () for _ in range(N)],int)\n",
    "MLines=np.array([input().split () for _ in range(M)],int)\n",
    "print(np.concatenate((NLines,MLines),axis=0))"
   ]
  }
 ],
 "metadata": {
  "kernelspec": {
   "display_name": "Python 3",
   "language": "python",
   "name": "python3"
  },
  "language_info": {
   "codemirror_mode": {
    "name": "ipython",
    "version": 3
   },
   "file_extension": ".py",
   "mimetype": "text/x-python",
   "name": "python",
   "nbconvert_exporter": "python",
   "pygments_lexer": "ipython3",
   "version": "3.6.5"
  }
 },
 "nbformat": 4,
 "nbformat_minor": 2
}
