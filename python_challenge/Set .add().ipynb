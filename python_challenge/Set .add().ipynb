{
 "cells": [
  {
   "cell_type": "markdown",
   "metadata": {},
   "source": [
    "# Set .add()"
   ]
  },
  {
   "cell_type": "markdown",
   "metadata": {},
   "source": [
    "If we want to add a single element to an existing set, we can use the .add() operation.\n",
    "It adds the element to the set and returns 'None'."
   ]
  },
  {
   "cell_type": "markdown",
   "metadata": {},
   "source": [
    "Example\n",
    "\n",
    ">>> s = set('HackerRank')\n",
    ">>> s.add('H')\n",
    ">>> print s\n",
    "set(['a', 'c', 'e', 'H', 'k', 'n', 'r', 'R'])\n",
    ">>> print s.add('HackerRank')\n",
    "None\n",
    ">>> print s\n",
    "set(['a', 'c', 'e', 'HackerRank', 'H', 'k', 'n', 'r', 'R'])"
   ]
  },
  {
   "cell_type": "markdown",
   "metadata": {},
   "source": [
    "Apply your knowledge of the .add() operation to help your friend Rupal.\n",
    "\n",
    "Rupal has a huge collection of country stamps. She decided to count the total number of distinct country stamps in her collection. She asked for your help. You pick the stamps one by one from a stack of N country stamps.\n",
    "\n",
    "Find the total number of distinct country stamps."
   ]
  },
  {
   "cell_type": "code",
   "execution_count": null,
   "metadata": {},
   "outputs": [],
   "source": [
    "# python 2\n",
    "\n",
    "from __future__ import print_function\n",
    "\n",
    "no=int(raw_input())\n",
    "country=set()\n",
    "\n",
    "for i in range(no):\n",
    "    country.add(raw_input())\n",
    "\n",
    "print(len(country))"
   ]
  },
  {
   "cell_type": "code",
   "execution_count": null,
   "metadata": {},
   "outputs": [],
   "source": [
    "# python 3\n",
    "\n",
    "print(len(set([str(input()) for _ in range(int(input()))])))"
   ]
  }
 ],
 "metadata": {
  "kernelspec": {
   "display_name": "Python 3",
   "language": "python",
   "name": "python3"
  },
  "language_info": {
   "codemirror_mode": {
    "name": "ipython",
    "version": 3
   },
   "file_extension": ".py",
   "mimetype": "text/x-python",
   "name": "python",
   "nbconvert_exporter": "python",
   "pygments_lexer": "ipython3",
   "version": "3.6.5"
  }
 },
 "nbformat": 4,
 "nbformat_minor": 2
}
