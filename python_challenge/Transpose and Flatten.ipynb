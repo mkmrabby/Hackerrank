{
 "cells": [
  {
   "cell_type": "markdown",
   "metadata": {},
   "source": [
    "# Transpose and Flatten"
   ]
  },
  {
   "cell_type": "markdown",
   "metadata": {},
   "source": [
    "Transpose\n",
    "\n",
    "We can generate the transposition of an array using the tool numpy.transpose. It will not affect the original array, but it will create a new array.\n",
    "\n",
    "import numpy\n",
    "\n",
    "my_array = numpy.array([[1,2,3],\n",
    "\n",
    "                        [4,5,6]])\n",
    "                        \n",
    "print numpy.transpose(my_array)\n",
    "\n",
    "#Output\n",
    "\n",
    "[[1 4]\n",
    "\n",
    " [2 5]\n",
    " \n",
    " [3 6]]\n",
    " \n",
    "\n",
    "Flatten\n",
    "\n",
    "The tool flatten creates a copy of the input array flattened to one dimension.\n",
    "\n",
    "import numpy\n",
    "\n",
    "my_array = numpy.array([[1,2,3],\n",
    "\n",
    "                        [4,5,6]])\n",
    "print my_array.flatten()\n",
    "\n",
    "#Output\n",
    "\n",
    "[1 2 3 4 5 6]\n",
    "\n",
    "Task\n",
    "\n",
    "You are given a X integer array matrix with space separated elements ( = rows and  = columns).\n",
    "Your task is to print the transpose and flatten results.\n",
    "\n",
    "Input Format\n",
    "\n",
    "The first line contains the space separated values of N and M.\n",
    "The next N lines contains the space separated elements of M columns.\n",
    "\n",
    "Output Format\n",
    "\n",
    "First, print the transpose array and then print the flatten.\n",
    "\n",
    "Sample Input\n",
    "\n",
    "2 2\n",
    "\n",
    "1 2\n",
    "\n",
    "3 4\n",
    "\n",
    "Sample Output\n",
    "\n",
    "[[1 3]\n",
    "\n",
    " [2 4]]\n",
    " \n",
    "[1 2 3 4]"
   ]
  },
  {
   "cell_type": "code",
   "execution_count": null,
   "metadata": {},
   "outputs": [],
   "source": [
    "# python 2\n",
    "\n",
    "from __future__ import print_function\n",
    "import numpy as np\n",
    "\n",
    "n, m=map(int, raw_input().split())\n",
    "array=np.array([raw_input().strip().split() for _ in range(n)],int)\n",
    "\n",
    "print(array.transpose())\n",
    "print(array.flatten())"
   ]
  },
  {
   "cell_type": "code",
   "execution_count": null,
   "metadata": {},
   "outputs": [],
   "source": [
    "# python 3\n",
    "\n",
    "import numpy as np\n",
    "\n",
    "n, m=map(int, input().split())\n",
    "array=np.array([input().strip().split() for _ in range(n)],int)\n",
    "\n",
    "print(array.transpose())\n",
    "print(array.flatten())"
   ]
  }
 ],
 "metadata": {
  "kernelspec": {
   "display_name": "Python 3",
   "language": "python",
   "name": "python3"
  },
  "language_info": {
   "codemirror_mode": {
    "name": "ipython",
    "version": 3
   },
   "file_extension": ".py",
   "mimetype": "text/x-python",
   "name": "python",
   "nbconvert_exporter": "python",
   "pygments_lexer": "ipython3",
   "version": "3.7.4"
  }
 },
 "nbformat": 4,
 "nbformat_minor": 2
}
