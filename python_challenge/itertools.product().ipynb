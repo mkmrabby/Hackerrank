{
 "cells": [
  {
   "cell_type": "markdown",
   "metadata": {},
   "source": [
    "# itertools.product()"
   ]
  },
  {
   "cell_type": "markdown",
   "metadata": {},
   "source": [
    "This tool computes the cartesian product of input iterables.\n",
    "It is equivalent to nested for-loops.\n",
    "For example, product(A, B) returns the same as ((x,y) for x in A for y in B)."
   ]
  },
  {
   "cell_type": "markdown",
   "metadata": {},
   "source": [
    "Example\n",
    "\n",
    ">>> from itertools import product\n",
    ">>>\n",
    ">>> print list(product([1,2,3],repeat = 2))\n",
    "[(1, 1), (1, 2), (1, 3), (2, 1), (2, 2), (2, 3), (3, 1), (3, 2), (3, 3)]\n",
    ">>>\n",
    ">>> print list(product([1,2,3],[3,4]))\n",
    "[(1, 3), (1, 4), (2, 3), (2, 4), (3, 3), (3, 4)]\n",
    ">>>\n",
    ">>> A = [[1,2,3],[3,4,5]]\n",
    ">>> print list(product(*A))\n",
    "[(1, 3), (1, 4), (1, 5), (2, 3), (2, 4), (2, 5), (3, 3), (3, 4), (3, 5)]\n",
    ">>>\n",
    ">>> B = [[1,2,3],[3,4,5],[7,8]]\n",
    ">>> print list(product(*B))\n",
    "[(1, 3, 7), (1, 3, 8), (1, 4, 7), (1, 4, 8), (1, 5, 7), (1, 5, 8), (2, 3, 7), (2, 3, 8), (2, 4, 7), (2, 4, 8), (2, 5, 7), (2, 5, 8), (3, 3, 7), (3, 3, 8), (3, 4, 7), (3, 4, 8), (3, 5, 7), (3, 5, 8)]"
   ]
  },
  {
   "cell_type": "markdown",
   "metadata": {},
   "source": [
    "Task\n",
    "\n",
    "You are given a two lists A and B. Your task is to compute their cartesian product A X B."
   ]
  },
  {
   "cell_type": "code",
   "execution_count": null,
   "metadata": {},
   "outputs": [],
   "source": [
    "# python 2\n",
    "\n",
    "from __future__ import print_function\n",
    "from itertools import product\n",
    "\n",
    "# Enter your code here. Read input from STDIN. Print output to STDOUT\n",
    "\n",
    "from itertools import product\n",
    "\n",
    "A=list([int(a) for a in raw_input().split()])\n",
    "B=list([int(b) for b in raw_input().split()])\n",
    "\n",
    "AxB=list(product(*[A,B]))\n",
    "for i in AxB:\n",
    "    print i,"
   ]
  },
  {
   "cell_type": "code",
   "execution_count": null,
   "metadata": {},
   "outputs": [],
   "source": [
    "# python 3\n",
    "\n",
    "from itertools import product\n",
    "\n",
    "A=list(map(int,input().split()))\n",
    "B=list(map(int,input().split()))\n",
    "\n",
    "print(*product(A,B))"
   ]
  }
 ],
 "metadata": {
  "kernelspec": {
   "display_name": "Python 3",
   "language": "python",
   "name": "python3"
  },
  "language_info": {
   "codemirror_mode": {
    "name": "ipython",
    "version": 3
   },
   "file_extension": ".py",
   "mimetype": "text/x-python",
   "name": "python",
   "nbconvert_exporter": "python",
   "pygments_lexer": "ipython3",
   "version": "3.6.5"
  }
 },
 "nbformat": 4,
 "nbformat_minor": 2
}
