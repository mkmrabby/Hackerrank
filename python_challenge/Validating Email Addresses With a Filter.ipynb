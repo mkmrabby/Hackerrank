{
 "cells": [
  {
   "cell_type": "markdown",
   "metadata": {},
   "source": [
    "# Validating Email Addresses With a Filter"
   ]
  },
  {
   "cell_type": "markdown",
   "metadata": {},
   "source": [
    "## Task\n",
    "\n",
    "You are given an integer  followed by  email addresses. Your task is to print a list containing only valid email addresses in lexicographical order.\n",
    "\n",
    "\n",
    "Valid email addresses must follow these rules:\n",
    "\n",
    "It must have the username@websitename.extension format type.\n",
    "The username can only contain letters, digits, dashes and underscores.\n",
    "The website name can only have letters and digits.\n",
    "The maximum length of the extension is .\n",
    "\n",
    "### Concept\n",
    "\n",
    "A filter takes a function returning True or False and applies it to a sequence, returning a list of only those members of the sequence where the function returned True. A Lambda function can be used with filters.\n",
    "\n",
    "Let's say you have to make a list of the squares of integers from  to  (both included).\n",
    "\n",
    ">> l = list(range(10))\n",
    "\n",
    ">> l = list(map(lambda x:x*x, l))\n",
    "\n",
    "Now, you only require those elements that are greater than  but less than .\n",
    "\n",
    ">> l = list(filter(lambda x: x > 10 and x < 80, l))\n",
    "\n",
    "Easy, isn't it?\n",
    "\n",
    "Input Format\n",
    "\n",
    "The first line of input is the integer , the number of email addresses.\n",
    " lines follow, each containing a string.\n",
    "\n",
    "Constraints\n",
    "\n",
    "Each line is a non-empty string.\n",
    "\n",
    "Output Format\n",
    "\n",
    "Output a list containing the valid email addresses in lexicographical order. If the list is empty, just output an empty list, [].\n",
    "\n",
    "Sample Input\n",
    "\n",
    "3\n",
    "lara@hackerrank.com\n",
    "brian-23@hackerrank.com\n",
    "britts_54@hackerrank.com\n",
    "Sample Output\n",
    "\n",
    "['brian-23@hackerrank.com', 'britts_54@hackerrank.com', 'lara@hackerrank.com']"
   ]
  },
  {
   "cell_type": "code",
   "execution_count": 2,
   "metadata": {},
   "outputs": [
    {
     "name": "stdout",
     "output_type": "stream",
     "text": [
      "3\n",
      "lara@hackerrank.com\n",
      "brian-23@hackerrank.com\n",
      "britts_54@hackerrank.com\n",
      "['brian-23@hackerrank.com', 'britts_54@hackerrank.com', 'lara@hackerrank.com']\n"
     ]
    }
   ],
   "source": [
    "# python 2\n",
    "\n",
    "import re\n",
    "\n",
    "def fun(s):\n",
    "    # return True if s is a valid email, else return False\n",
    "    return re.match(r'[a-zA-Z0-9_-]+@[a-zA-Z0-9]+\\.[a-zA-Z]{1,3}$',s)\n",
    "\n",
    "def filter_mail(emails):\n",
    "    return filter(fun, emails)\n",
    "\n",
    "if __name__ == '__main__':\n",
    "    n = int(raw_input())\n",
    "    emails = []\n",
    "    for _ in range(n):\n",
    "        emails.append(raw_input())\n",
    "\n",
    "    filtered_emails = filter_mail(emails)\n",
    "    filtered_emails.sort()\n",
    "    print filtered_emails"
   ]
  },
  {
   "cell_type": "code",
   "execution_count": null,
   "metadata": {},
   "outputs": [],
   "source": [
    "# python 3\n",
    "\n",
    "import re\n",
    "\n",
    "def fun(s):\n",
    "    # return True if s is a valid email, else return False\n",
    "    return re.match(r'[a-zA-Z0-9_-]+@[a-zA-Z0-9]+\\.[a-zA-Z]{1,3}$',s)\n",
    "\n",
    "def filter_mail(emails):\n",
    "    return list(filter(fun, emails))\n",
    "\n",
    "if __name__ == '__main__':\n",
    "    n = int(input())\n",
    "    emails = []\n",
    "    for _ in range(n):\n",
    "        emails.append(input())\n",
    "\n",
    "filtered_emails = filter_mail(emails)\n",
    "filtered_emails.sort()\n",
    "print(filtered_emails)"
   ]
  }
 ],
 "metadata": {
  "kernelspec": {
   "display_name": "Python 2",
   "language": "python",
   "name": "python2"
  },
  "language_info": {
   "codemirror_mode": {
    "name": "ipython",
    "version": 2
   },
   "file_extension": ".py",
   "mimetype": "text/x-python",
   "name": "python",
   "nbconvert_exporter": "python",
   "pygments_lexer": "ipython2",
   "version": "2.7.15"
  }
 },
 "nbformat": 4,
 "nbformat_minor": 2
}
