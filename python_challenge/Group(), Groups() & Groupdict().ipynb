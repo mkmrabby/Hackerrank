{
 "cells": [
  {
   "cell_type": "markdown",
   "metadata": {},
   "source": [
    "# Group(), Groups() & Groupdict()"
   ]
  },
  {
   "cell_type": "markdown",
   "metadata": {},
   "source": [
    "### group()\n",
    "\n",
    "A group() expression returns one or more subgroups of the match.\n",
    "\n",
    "##### Code\n",
    "\n",
    ">>> import re\n",
    "\n",
    ">>> m = re.match(r'(\\w+)@(\\w+)\\.(\\w+)','username@hackerrank.com')\n",
    "\n",
    ">>> m.group(0)       # The entire match \n",
    "\n",
    "'username@hackerrank.com'\n",
    "\n",
    ">>> m.group(1)       # The first parenthesized subgroup.\n",
    "\n",
    "'username'\n",
    "\n",
    ">>> m.group(2)       # The second parenthesized subgroup.\n",
    "\n",
    "'hackerrank'\n",
    "\n",
    ">>> m.group(3)       # The third parenthesized subgroup.\n",
    "\n",
    "'com'\n",
    "\n",
    ">>> m.group(1,2,3)   # Multiple arguments give us a tuple.\n",
    "\n",
    "('username', 'hackerrank', 'com')\n",
    "\n",
    "### groups()\n",
    "\n",
    "A groups() expression returns a tuple containing all the subgroups of the match.\n",
    "\n",
    "##### Code\n",
    "\n",
    ">>> import re\n",
    "\n",
    ">>> m = re.match(r'(\\w+)@(\\w+)\\.(\\w+)','username@hackerrank.com')\n",
    "\n",
    ">>> m.groups()\n",
    "\n",
    "('username', 'hackerrank', 'com')\n",
    "\n",
    "groupdict()\n",
    "\n",
    "A groupdict() expression returns a dictionary containing all the named subgroups of the match, keyed by the subgroup name.\n",
    "\n",
    "##### Code\n",
    "\n",
    ">>> m = re.match(r'(?P<user>\\w+)@(?P<website>\\w+)\\.(?P<extension>\\w+)','myname@hackerrank.com')\n",
    "    \n",
    ">>> m.groupdict()\n",
    "\n",
    "{'website': 'hackerrank', 'user': 'myname', 'extension': 'com'}"
   ]
  },
  {
   "cell_type": "markdown",
   "metadata": {},
   "source": [
    "### Task\n",
    "\n",
    "You are given a string S.\n",
    "\n",
    "S contains alphanumeric characters only.\n",
    "\n",
    " Your task is to sort the string S in the following manner:\n",
    "\n",
    "- All sorted lowercase letters are ahead of uppercase letters.\n",
    "\n",
    "- All sorted uppercase letters are ahead of digits.\n",
    "\n",
    "- All sorted odd digits are ahead of sorted even digits.\n",
    "\n",
    "### Input Format\n",
    "\n",
    "A single line of input contains the string S.\n",
    "\n",
    "### Constraints\n",
    "\n",
    "### Output Format\n",
    "\n",
    "Output the sorted string S.\n",
    "\n",
    "### Sample Input\n",
    "\n",
    "Sorting1234\n",
    "\n",
    "### Sample Output\n",
    "\n",
    "ginortS1324"
   ]
  },
  {
   "cell_type": "code",
   "execution_count": 2,
   "metadata": {},
   "outputs": [
    {
     "name": "stdout",
     "output_type": "stream",
     "text": [
      "Sorting1234\n",
      "ginortS1324\n"
     ]
    }
   ],
   "source": [
    "# python 2\n",
    "\n",
    "from __future__ import print_function\n",
    "import re\n",
    "\n",
    "S=raw_input()\n",
    "series='[a-z]','[A-Z]','[13579]','[02468]'\n",
    "print(''.join(map(lambda x: ''.join(sorted(re.findall(x,S))), series)))"
   ]
  },
  {
   "cell_type": "code",
   "execution_count": null,
   "metadata": {},
   "outputs": [],
   "source": [
    "# python 3\n",
    "\n",
    "l, u, o, e=[],[],[],[]\n",
    "\n",
    "for i in sorted(input()):\n",
    "    if i.isalpha():\n",
    "        x=u if i.isupper() else l\n",
    "    else:\n",
    "        x=o if int(i)%2 else e\n",
    "    x.append(i)\n",
    "print(''.join(l+u+o+e))"
   ]
  }
 ],
 "metadata": {
  "kernelspec": {
   "display_name": "Python 2",
   "language": "python",
   "name": "python2"
  },
  "language_info": {
   "codemirror_mode": {
    "name": "ipython",
    "version": 2
   },
   "file_extension": ".py",
   "mimetype": "text/x-python",
   "name": "python",
   "nbconvert_exporter": "python",
   "pygments_lexer": "ipython2",
   "version": "2.7.15"
  }
 },
 "nbformat": 4,
 "nbformat_minor": 2
}
