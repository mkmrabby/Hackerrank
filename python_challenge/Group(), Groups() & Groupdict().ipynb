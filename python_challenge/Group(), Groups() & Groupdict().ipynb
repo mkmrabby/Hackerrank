{
 "cells": [
  {
   "cell_type": "markdown",
   "metadata": {},
   "source": [
    "# Group(), Groups() & Groupdict()"
   ]
  },
  {
   "cell_type": "markdown",
   "metadata": {},
   "source": [
    "### group()\n",
    "\n",
    "A group() expression returns one or more subgroups of the match.\n",
    "Code\n",
    "\n",
    ">>> import re\n",
    "\n",
    ">>> m = re.match(r'(\\w+)@(\\w+)\\.(\\w+)','username@hackerrank.com')\n",
    "\n",
    ">>> m.group(0)       # The entire match \n",
    "\n",
    "'username@hackerrank.com'\n",
    "\n",
    ">>> m.group(1)       # The first parenthesized subgroup.\n",
    "\n",
    "'username'\n",
    "\n",
    ">>> m.group(2)       # The second parenthesized subgroup.\n",
    "\n",
    "'hackerrank'\n",
    "\n",
    ">>> m.group(3)       # The third parenthesized subgroup.\n",
    "\n",
    "'com'\n",
    "\n",
    ">>> m.group(1,2,3)   # Multiple arguments give us a tuple.\n",
    "\n",
    "('username', 'hackerrank', 'com')\n",
    "\n",
    "### groups()\n",
    "\n",
    "A groups() expression returns a tuple containing all the subgroups of the match.\n",
    "\n",
    "Code\n",
    "\n",
    ">>> import re\n",
    "\n",
    ">>> m = re.match(r'(\\w+)@(\\w+)\\.(\\w+)','username@hackerrank.com')\n",
    "\n",
    ">>> m.groups()\n",
    "\n",
    "('username', 'hackerrank', 'com')\n",
    "\n",
    "### groupdict()\n",
    "\n",
    "A groupdict() expression returns a dictionary containing all the named subgroups of the match, keyed by the subgroup name.\n",
    "\n",
    "Code\n",
    "\n",
    ">>> m = re.match(r'(?P<user>\\w+)@(?P<website>\\w+)\\.(?P<extension>\\w+)','myname@hackerrank.com')\n",
    "    \n",
    ">>> m.groupdict()\n",
    "\n",
    "{'website': 'hackerrank', 'user': 'myname', 'extension': 'com'}"
   ]
  },
  {
   "cell_type": "markdown",
   "metadata": {},
   "source": []
  },
  {
   "cell_type": "code",
   "execution_count": 1,
   "metadata": {},
   "outputs": [
    {
     "name": "stdout",
     "output_type": "stream",
     "text": [
      "..12345678910111213141516171820212223\n",
      "1\n"
     ]
    }
   ],
   "source": [
    "# python 2\n",
    "\n",
    "from __future__ import print_function\n",
    "import re\n",
    "m=re.search(r'([a-zA-Z0-9])\\1+',raw_input())\n",
    "print(m.group(1) if m else -1)"
   ]
  },
  {
   "cell_type": "code",
   "execution_count": null,
   "metadata": {},
   "outputs": [],
   "source": [
    "# python 3\n",
    "\n",
    "import re\n",
    "m=re.search(r'([a-zA-Z0-9])\\1+',input().strip())\n",
    "print(m.group(1) if m else -1)"
   ]
  }
 ],
 "metadata": {
  "kernelspec": {
   "display_name": "Python 2",
   "language": "python",
   "name": "python2"
  },
  "language_info": {
   "codemirror_mode": {
    "name": "ipython",
    "version": 2
   },
   "file_extension": ".py",
   "mimetype": "text/x-python",
   "name": "python",
   "nbconvert_exporter": "python",
   "pygments_lexer": "ipython2",
   "version": "2.7.15"
  }
 },
 "nbformat": 4,
 "nbformat_minor": 2
}
