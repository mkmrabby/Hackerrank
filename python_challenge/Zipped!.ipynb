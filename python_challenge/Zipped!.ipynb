{
 "cells": [
  {
   "cell_type": "markdown",
   "metadata": {},
   "source": [
    "# Zipped!"
   ]
  },
  {
   "cell_type": "markdown",
   "metadata": {},
   "source": [
    "zip([iterable, ...])\n",
    "\n",
    "This function returns a list of tuples. The th tuple contains the th element from each of the argument sequences or iterables.\n",
    "\n",
    "If the argument sequences are of unequal lengths, then the returned list is truncated to the length of the shortest argument sequence.\n",
    "\n",
    "Sample Code\n",
    "\n",
    ">>> print zip([1,2,3,4,5,6],'Hacker')\n",
    "\n",
    "[(1, 'H'), (2, 'a'), (3, 'c'), (4, 'k'), (5, 'e'), (6, 'r')]\n",
    "\n",
    ">>> \n",
    ">>> print zip([1,2,3,4,5,6],[0,9,8,7,6,5,4,3,2,1])\n",
    "\n",
    "[(1, 0), (2, 9), (3, 8), (4, 7), (5, 6), (6, 5)]\n",
    "\n",
    ">>> \n",
    ">>> A = [1,2,3]\n",
    "\n",
    ">>> B = [6,5,4]\n",
    "\n",
    ">>> C = [7,8,9]\n",
    "\n",
    ">>> X = [A] + [B] + [C]\n",
    "\n",
    ">>> \n",
    "\n",
    ">>> print zip(*X)\n",
    "\n",
    "[(1, 6, 7), (2, 5, 8), (3, 4, 9)]"
   ]
  },
  {
   "cell_type": "markdown",
   "metadata": {},
   "source": [
    "Task\n",
    "\n",
    "The National University conducts an examination of N students in X subjects.\n",
    "Your task is to compute the average scores of each student.\n",
    "\n",
    "The format for the general mark sheet is:\n",
    "\n",
    "Student ID → ___1_____2_____3_____4_____5__               \n",
    "Subject 1   |  89    90    78    93    80\n",
    "Subject 2   |  90    91    85    88    86  \n",
    "Subject 3   |  91    92    83    89    90.5\n",
    "            |______________________________\n",
    "Average        90    91    82    90    85.5 \n",
    "\n",
    "Input Format\n",
    "\n",
    "The first line contains N and X separated by a space.\n",
    "The next X lines contains the space separated marks obtained by students in a particular subject.\n",
    "\n",
    "Constraints\n",
    "\n",
    "0<N<=100\n",
    "\n",
    "0<X<=100\n",
    "\n",
    "\n",
    "Output Format\n",
    "\n",
    "Print the averages of all students on separate lines.\n",
    "\n",
    "The averages must be correct up to 1 decimal place.\n",
    "\n",
    "Sample Input\n",
    "\n",
    "5 3\n",
    "89 90 78 93 80\n",
    "90 91 85 88 86  \n",
    "91 92 83 89 90.5\n",
    "Sample Output\n",
    "\n",
    "90.0 \n",
    "91.0 \n",
    "82.0 \n",
    "90.0 \n",
    "85.5        \n",
    "Explanation\n",
    "\n",
    "Marks obtained by student 1: 89, 90, 91\n",
    "Average marks of student 1: 270/3=90\n",
    "\n",
    "Marks obtained by student 2: 90, 91, 92\n",
    "Average marks of student 2: 273/3 = 91\n",
    "\n",
    "Marks obtained by student 3: 78, 85, 83\n",
    "Average marks of student 3: 246/3 = 82\n",
    "\n",
    "Marks obtained by student 4: 93, 88, 89\n",
    "Average marks of student 4: 270/3 = 90\n",
    "\n",
    "Marks obtained by student 5: 80, 86, 90.5\n",
    "Average marks of student 5: 256.3/3 = 85.5\n",
    "\n"
   ]
  },
  {
   "cell_type": "code",
   "execution_count": 3,
   "metadata": {},
   "outputs": [],
   "source": [
    "# python 2\n",
    "\n",
    "from __future__ import print_function\n",
    "\n",
    "n, x = map(int, raw_input().split())\n",
    "\n",
    "sheet=[]\n",
    "\n",
    "for _ in range(x):\n",
    "    sheet.append(map(float, raw_input().split()))\n",
    "\n",
    "for i in zip(*sheet):\n",
    "    print(sum(i)/len(i))"
   ]
  },
  {
   "cell_type": "code",
   "execution_count": 2,
   "metadata": {},
   "outputs": [
    {
     "name": "stdout",
     "output_type": "stream",
     "text": [
      "5 3\n",
      "89 90 78 93 80\n",
      "90 91 85 88 86 \n",
      "91 92 83 89 90.5\n",
      "90.0\n",
      "91.0\n",
      "82.0\n",
      "90.0\n",
      "85.5\n"
     ]
    }
   ],
   "source": [
    "# python 3\n",
    "\n",
    "n, x = map(int, input().split())\n",
    "\n",
    "sheet=[]\n",
    "\n",
    "for _ in range(x):\n",
    "    sheet.append(map(float, input().split()))\n",
    "\n",
    "for i in zip(*sheet):\n",
    "    print(sum(i)/len(i))"
   ]
  }
 ],
 "metadata": {
  "kernelspec": {
   "display_name": "Python 3",
   "language": "python",
   "name": "python3"
  },
  "language_info": {
   "codemirror_mode": {
    "name": "ipython",
    "version": 3
   },
   "file_extension": ".py",
   "mimetype": "text/x-python",
   "name": "python",
   "nbconvert_exporter": "python",
   "pygments_lexer": "ipython3",
   "version": "3.7.4"
  }
 },
 "nbformat": 4,
 "nbformat_minor": 2
}
