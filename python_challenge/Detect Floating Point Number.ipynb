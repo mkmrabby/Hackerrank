{
 "cells": [
  {
   "cell_type": "markdown",
   "metadata": {},
   "source": [
    "# Detect Floating Point Number"
   ]
  },
  {
   "cell_type": "markdown",
   "metadata": {},
   "source": [
    "Check Tutorial tab to know how to to solve.\n",
    "\n",
    "You are given a string N.\n",
    "Your task is to verify that N is a floating point number.\n",
    "\n",
    "In this task, a valid float number must satisfy all of the following requirements:\n",
    "\n",
    " Number can start with +, - or . symbol.\n",
    "For example:\n",
    "\n",
    "✔ +4.50\n",
    "\n",
    "✔ -1.0\n",
    "\n",
    "✔ .5\n",
    "\n",
    "✔ -.7\n",
    "\n",
    "✔ +.4\n",
    "\n",
    "✖ -+4.5\n",
    "\n",
    " Number must contain at least  decimal value.\n",
    "For example:\n",
    "\n",
    "✖ 12.\n",
    "\n",
    "✔ 12.0  \n",
    "\n",
    " Number must have exactly one . symbol.\n",
    " Number must not give any exceptions when converted using float(N).\n",
    "\n",
    "Input Format\n",
    "\n",
    "The first line contains an integer T, the number of test cases.\n",
    "The next T line(s) contains a string N.\n",
    "\n",
    "Constraints: 0<T<10\n",
    "\n",
    "Output Format\n",
    "\n",
    "Output True or False for each test case.\n",
    "\n",
    "Sample Input 0\n",
    "\n",
    "4\n",
    "\n",
    "4.0O0\n",
    "\n",
    "-1.00\n",
    "\n",
    "+4.54\n",
    "\n",
    "SomeRandomStuff\n",
    "\n",
    "Sample Output 0\n",
    "\n",
    "False\n",
    "\n",
    "True\n",
    "\n",
    "True\n",
    "\n",
    "False"
   ]
  },
  {
   "cell_type": "code",
   "execution_count": 2,
   "metadata": {},
   "outputs": [
    {
     "name": "stdout",
     "output_type": "stream",
     "text": [
      "4\n",
      "4.0O0\n",
      "False\n",
      "-1.00\n",
      "True\n",
      "+4.54\n",
      "True\n",
      "SomeRandomStuff\n",
      "False\n"
     ]
    }
   ],
   "source": [
    "# python 2\n",
    "from __future__ import print_function\n",
    "import sys\n",
    "import re\n",
    "\n",
    "for _ in range(int(raw_input())):\n",
    "    print(bool(re.match(r'^[-+]?[0-9]*\\.[0-9]+$', raw_input())))"
   ]
  },
  {
   "cell_type": "code",
   "execution_count": null,
   "metadata": {},
   "outputs": [],
   "source": [
    "# python 3\n",
    "\n",
    "import re\n",
    "\n",
    "for _ in range(int(input())):\n",
    "    print (bool(re.match(r'[-+]?[0-9]*[.][0-9]+$',input())))"
   ]
  }
 ],
 "metadata": {
  "kernelspec": {
   "display_name": "Python 2",
   "language": "python",
   "name": "python2"
  },
  "language_info": {
   "codemirror_mode": {
    "name": "ipython",
    "version": 2
   },
   "file_extension": ".py",
   "mimetype": "text/x-python",
   "name": "python",
   "nbconvert_exporter": "python",
   "pygments_lexer": "ipython2",
   "version": "2.7.15"
  }
 },
 "nbformat": 4,
 "nbformat_minor": 2
}
