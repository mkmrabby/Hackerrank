{
 "cells": [
  {
   "cell_type": "markdown",
   "metadata": {},
   "source": [
    "# collections.OrderedDict"
   ]
  },
  {
   "cell_type": "markdown",
   "metadata": {},
   "source": [
    "An OrderedDict is a dictionary that remembers the order of the keys that were inserted first. If a new entry overwrites an existing entry, the original insertion position is left unchanged.\n",
    "\n",
    ">>> from collections import OrderedDict\n",
    ">>> \n",
    ">>> ordinary_dictionary = {}\n",
    ">>> ordinary_dictionary['a'] = 1\n",
    ">>> ordinary_dictionary['b'] = 2\n",
    ">>> ordinary_dictionary['c'] = 3\n",
    ">>> ordinary_dictionary['d'] = 4\n",
    ">>> ordinary_dictionary['e'] = 5\n",
    ">>> \n",
    ">>> print ordinary_dictionary\n",
    "{'a': 1, 'c': 3, 'b': 2, 'e': 5, 'd': 4}\n",
    ">>> \n",
    ">>> ordered_dictionary = OrderedDict()\n",
    ">>> ordered_dictionary['a'] = 1\n",
    ">>> ordered_dictionary['b'] = 2\n",
    ">>> ordered_dictionary['c'] = 3\n",
    ">>> ordered_dictionary['d'] = 4\n",
    ">>> ordered_dictionary['e'] = 5\n",
    ">>> \n",
    ">>> print ordered_dictionary\n",
    "OrderedDict([('a', 1), ('b', 2), ('c', 3), ('d', 4), ('e', 5)])"
   ]
  },
  {
   "cell_type": "markdown",
   "metadata": {},
   "source": [
    "Task\n",
    "\n",
    "You are the manager of a supermarket.\n",
    "You have a list of N items together with their prices that consumers bought on a particular day.\n",
    "Your task is to print each item_name and net_price in order of its first occurrence."
   ]
  },
  {
   "cell_type": "code",
   "execution_count": 4,
   "metadata": {},
   "outputs": [],
   "source": [
    "# python 2\n",
    "\n",
    "from __future__ import print_function\n",
    "from collections import OrderedDict\n",
    "\n",
    "d=OrderedDict()\n",
    "\n",
    "for _ in range(int(raw_input())):\n",
    "    item, space, quantity=raw_input().rpartition(' ')\n",
    "    d[item]=d.get(item, 0)+int(quantity)\n",
    "\n",
    "for item, quantity in d.items():\n",
    "    print(item, quantity)"
   ]
  },
  {
   "cell_type": "code",
   "execution_count": null,
   "metadata": {},
   "outputs": [],
   "source": [
    "# python 3\n",
    "\n",
    "from collections import OrderedDict\n",
    "\n",
    "d=OrderedDict()\n",
    "\n",
    "for _ in range(int(input())):\n",
    "    item, space, quantity=input().rpartition(' ')\n",
    "    d[item]=d.get(item,0)+int(quantity)\n",
    "\n",
    "for item, quantity in d.items():\n",
    "    print(item, quantity)"
   ]
  }
 ],
 "metadata": {
  "kernelspec": {
   "display_name": "Python 3",
   "language": "python",
   "name": "python3"
  },
  "language_info": {
   "codemirror_mode": {
    "name": "ipython",
    "version": 3
   },
   "file_extension": ".py",
   "mimetype": "text/x-python",
   "name": "python",
   "nbconvert_exporter": "python",
   "pygments_lexer": "ipython3",
   "version": "3.6.5"
  }
 },
 "nbformat": 4,
 "nbformat_minor": 2
}
