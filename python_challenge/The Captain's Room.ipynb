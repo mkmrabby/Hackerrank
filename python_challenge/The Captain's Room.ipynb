{
 "cells": [
  {
   "cell_type": "markdown",
   "metadata": {},
   "source": [
    "# The Captain's Room"
   ]
  },
  {
   "cell_type": "markdown",
   "metadata": {},
   "source": [
    "Problem:"
   ]
  },
  {
   "cell_type": "markdown",
   "metadata": {},
   "source": [
    "Mr. Anant Asankhya is the manager at the INFINITE hotel. The hotel has an infinite amount of rooms.\n",
    "\n",
    "One fine day, a finite number of tourists come to stay at the hotel.\n",
    "The tourists consist of:\n",
    "→ A Captain.\n",
    "→ An unknown group of families consisting of K members per group where K ≠ 1.\n",
    "\n",
    "The Captain was given a separate room, and the rest were given one room per group.\n",
    "\n",
    "Mr. Anant has an unordered list of randomly arranged room entries. The list consists of the room numbers for all of the tourists. The room numbers will appear K times per group except for the Captain's room.\n",
    "\n",
    "Mr. Anant needs you to help him find the Captain's room number.\n",
    "The total number of tourists or the total number of groups of families is not known to you.\n",
    "You only know the value of K and the room number list."
   ]
  },
  {
   "cell_type": "code",
   "execution_count": null,
   "metadata": {},
   "outputs": [],
   "source": [
    "# python 2\n",
    "from __future__ import print_function\n",
    "\n",
    "group_size=int(raw_input())\n",
    "all_room_no=list(map(int,raw_input().split()))\n",
    "room_set=set(all_room_no)\n",
    "\n",
    "print((sum(room_set)*group_size-sum(all_room_no))//(group_size-1))"
   ]
  },
  {
   "cell_type": "code",
   "execution_count": null,
   "metadata": {},
   "outputs": [],
   "source": [
    "# python 3\n",
    "\n",
    "group_size=int(raw_input())\n",
    "all_room_no=list(map(int,raw_input().split()))\n",
    "room_set=set(all_room_no)\n",
    "\n",
    "print((sum(room_set)*group_size-sum(all_room_no))//(group_size-1))"
   ]
  },
  {
   "cell_type": "code",
   "execution_count": null,
   "metadata": {},
   "outputs": [],
   "source": [
    "# python other\n",
    "\n",
    "import numpy as np\n",
    "\n",
    "m=int(input())\n",
    "family = np.array(input().split(),int)\n",
    "print(family)\n",
    "un_family,count=np.unique(family,count_returns=True)\n",
    "ind=np.where(count==1)[0][0]\n",
    "print(un_family[ind])"
   ]
  }
 ],
 "metadata": {
  "kernelspec": {
   "display_name": "Python 2",
   "language": "python",
   "name": "python2"
  },
  "language_info": {
   "codemirror_mode": {
    "name": "ipython",
    "version": 2
   },
   "file_extension": ".py",
   "mimetype": "text/x-python",
   "name": "python",
   "nbconvert_exporter": "python",
   "pygments_lexer": "ipython2",
   "version": "2.7.15"
  }
 },
 "nbformat": 4,
 "nbformat_minor": 2
}
