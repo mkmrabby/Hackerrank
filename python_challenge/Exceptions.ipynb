{
 "cells": [
  {
   "cell_type": "markdown",
   "metadata": {},
   "source": [
    "# Exceptions"
   ]
  },
  {
   "cell_type": "markdown",
   "metadata": {},
   "source": [
    "Exceptions\n",
    "Errors detected during execution are called exceptions.\n",
    "\n",
    "Examples:\n",
    "\n",
    "ZeroDivisionError\n",
    "This error is raised when the second argument of a division or modulo operation is zero.\n",
    "\n",
    ">>> a = '1'\n",
    ">>> b = '0'\n",
    ">>> print int(a) / int(b)\n",
    ">>> ZeroDivisionError: integer division or modulo by zero\n",
    "ValueError\n",
    "This error is raised when a built-in operation or function receives an argument that has the right type but an inappropriate value.\n",
    "\n",
    ">>> a = '1'\n",
    ">>> b = '#'\n",
    ">>> print int(a) / int(b)\n",
    ">>> ValueError: invalid literal for int() with base 10: '#'\n",
    "\n",
    "Handling Exceptions\n",
    "The statements try and except can be used to handle selected exceptions. A try statement may have more than one except clause to specify handlers for different exceptions.\n",
    "\n",
    "\n",
    "#Code\n",
    "try:\n",
    "    print 1/0\n",
    "except ZeroDivisionError as e:\n",
    "    print \"Error Code:\",e\n",
    "Output\n",
    "\n",
    "Error Code: integer division or modulo by zero\n",
    "\n",
    "Task\n",
    "\n",
    "You are given two values a and b.\n",
    "Perform integer division and print a/b.\n",
    "\n",
    "Input Format\n",
    "\n",
    "The first line contains T, the number of test cases.\n",
    "The next T lines each contain the space separated values of a and b.\n",
    "\n",
    "Constraints: 0<T<10\n",
    "\n",
    "Output Format\n",
    "\n",
    "Print the value of a/b.\n",
    "In the case of ZeroDivisionError or ValueError, print the error code.\n",
    "\n",
    "Sample Input\n",
    "\n",
    "3\n",
    "1 0\n",
    "2 $\n",
    "3 1\n",
    "Sample Output\n",
    "\n",
    "Error Code: integer division or modulo by zero\n",
    "Error Code: invalid literal for int() with base 10: '$'\n",
    "3\n",
    "Note:\n",
    "For integer division in Python 3 use //."
   ]
  },
  {
   "cell_type": "code",
   "execution_count": 4,
   "metadata": {},
   "outputs": [],
   "source": [
    "# python 2\n",
    "\n",
    "from __future__ import print_function\n",
    "\n",
    "for i in range(int(raw_input())):\n",
    "    try:\n",
    "        a,b=map(int, raw_input().split())\n",
    "        print(a//b)\n",
    "    except Exception as e:\n",
    "        print('Error Code:',e)\n"
   ]
  },
  {
   "cell_type": "code",
   "execution_count": null,
   "metadata": {},
   "outputs": [],
   "source": [
    "# python 3\n",
    "\n",
    "for i in range(int(input())):\n",
    "    try:\n",
    "        a,b=map(int, input().split())\n",
    "        print(a//b)\n",
    "    except BaseException as e:\n",
    "        print('Error Code:',e)"
   ]
  }
 ],
 "metadata": {
  "kernelspec": {
   "display_name": "Python 3",
   "language": "python",
   "name": "python3"
  },
  "language_info": {
   "codemirror_mode": {
    "name": "ipython",
    "version": 3
   },
   "file_extension": ".py",
   "mimetype": "text/x-python",
   "name": "python",
   "nbconvert_exporter": "python",
   "pygments_lexer": "ipython3",
   "version": "3.6.5"
  }
 },
 "nbformat": 4,
 "nbformat_minor": 2
}
