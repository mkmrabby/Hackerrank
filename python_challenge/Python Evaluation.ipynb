{
 "cells": [
  {
   "cell_type": "markdown",
   "metadata": {},
   "source": [
    "# Python Evaluation"
   ]
  },
  {
   "cell_type": "markdown",
   "metadata": {},
   "source": [
    "The eval() expression is a very powerful built-in function of Python. It helps in evaluating an expression. The expression can be a Python statement, or a code object.\n",
    "\n",
    "For example:\n",
    "\n",
    ">>> eval(\"9 + 5\")\n",
    "\n",
    "14\n",
    "\n",
    ">>> x = 2\n",
    "\n",
    ">>> eval(\"x + 3\")\n",
    "\n",
    "5\n",
    "Here, eval() can also be used to work with Python keywords or defined functions and variables. These would normally be stored as strings.\n",
    "\n",
    "For example:\n",
    "\n",
    ">>> type(eval(\"len\"))\n",
    "\n",
    "<type 'builtin_function_or_method'>\n",
    "\n",
    "Without eval()\n",
    "\n",
    ">>> type(\"len\")\n",
    "\n",
    "<type 'str'>\n",
    "\n",
    "Task\n",
    "\n",
    "You are given an expression in a line. Read that line as a string variable, such as var, and print the result using eval(var).\n",
    "\n",
    "NOTE: Python2 users, please import from __future__ import print_function.\n",
    "\n",
    "Constraint\n",
    "\n",
    "Input string is less than 100 characters.\n",
    "\n",
    "Sample Input\n",
    "\n",
    "print(2 + 3)\n",
    "\n",
    "Sample Output\n",
    "\n",
    "5"
   ]
  },
  {
   "cell_type": "code",
   "execution_count": 4,
   "metadata": {},
   "outputs": [
    {
     "name": "stdout",
     "output_type": "stream",
     "text": [
      "print(2 + 3)\n",
      "5\n"
     ]
    }
   ],
   "source": [
    "# python 2\n",
    "from __future__ import print_function\n",
    "eval(raw_input())"
   ]
  },
  {
   "cell_type": "code",
   "execution_count": null,
   "metadata": {},
   "outputs": [],
   "source": [
    "# python 3\n",
    "\n",
    "eval(input())"
   ]
  }
 ],
 "metadata": {
  "kernelspec": {
   "display_name": "Python 2",
   "language": "python",
   "name": "python2"
  },
  "language_info": {
   "codemirror_mode": {
    "name": "ipython",
    "version": 2
   },
   "file_extension": ".py",
   "mimetype": "text/x-python",
   "name": "python",
   "nbconvert_exporter": "python",
   "pygments_lexer": "ipython2",
   "version": "2.7.15"
  }
 },
 "nbformat": 4,
 "nbformat_minor": 2
}
