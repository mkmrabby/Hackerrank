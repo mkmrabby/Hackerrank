{
 "cells": [
  {
   "cell_type": "markdown",
   "metadata": {},
   "source": [
    "# The Minion Game"
   ]
  },
  {
   "cell_type": "markdown",
   "metadata": {},
   "source": [
    "Kevin and Stuart want to play the 'The Minion Game'.\n",
    "\n",
    "Game Rules\n",
    "\n",
    "Both players are given the same string, S.\n",
    "Both players have to make substrings using the letters of the string S.\n",
    "Stuart has to make words starting with consonants.\n",
    "Kevin has to make words starting with vowels.\n",
    "The game ends when both players have made all possible substrings.\n",
    "\n",
    "Scoring\n",
    "A player gets +1 point for each occurrence of the substring in the string S."
   ]
  },
  {
   "cell_type": "code",
   "execution_count": null,
   "metadata": {},
   "outputs": [],
   "source": [
    "#python 2\n",
    "from __future__ import print_function\n",
    "\n",
    "def minion_game(string):\n",
    "    # your code goes here\n",
    "    s=0\n",
    "    k=0\n",
    "    vowels='AEIOU'\n",
    "    for i in range(len(string)):\n",
    "        if string[i] in vowels:\n",
    "            k+=(len(string)-i)\n",
    "        else:\n",
    "            s+=(len(string)-i)\n",
    "\n",
    "    if k>s:\n",
    "        print('Kevin',k)\n",
    "    elif s>k:\n",
    "        print('Stuart',s)\n",
    "    else:\n",
    "        print('Draw')\n",
    "        \n",
    "if __name__ == '__main__':\n",
    "    s = raw_input()\n",
    "    minion_game(s)"
   ]
  },
  {
   "cell_type": "code",
   "execution_count": null,
   "metadata": {},
   "outputs": [],
   "source": [
    "#python 3\n",
    "\n",
    "def minion_game(string):\n",
    "    # your code goes here\n",
    "    s=0\n",
    "    k=0\n",
    "    vowels='AEIOU'\n",
    "    for i in range(len(string)):\n",
    "        if string[i] in vowels:\n",
    "            k+=(len(string)-i)\n",
    "        else:\n",
    "            s+=(len(string)-i)\n",
    "\n",
    "    if k>s:\n",
    "        print('Kevin',k)\n",
    "    elif s>k:\n",
    "        print('Stuart',s)\n",
    "    else:\n",
    "        print('Draw')\n",
    "\n",
    "if __name__ == '__main__':"
   ]
  }
 ],
 "metadata": {
  "kernelspec": {
   "display_name": "Python 3",
   "language": "python",
   "name": "python3"
  },
  "language_info": {
   "codemirror_mode": {
    "name": "ipython",
    "version": 3
   },
   "file_extension": ".py",
   "mimetype": "text/x-python",
   "name": "python",
   "nbconvert_exporter": "python",
   "pygments_lexer": "ipython3",
   "version": "3.6.5"
  }
 },
 "nbformat": 4,
 "nbformat_minor": 2
}
