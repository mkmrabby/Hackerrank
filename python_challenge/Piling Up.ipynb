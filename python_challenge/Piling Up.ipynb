{
 "cells": [
  {
   "cell_type": "markdown",
   "metadata": {},
   "source": [
    "# Piling Up!"
   ]
  },
  {
   "cell_type": "markdown",
   "metadata": {},
   "source": [
    "There is a horizontal row of n cubes. The length of each cube is given. You need to create a new vertical pile of cubes. The new pile should follow these directions: if cube_i is on top of cube_j then sideLength_j >= sideLength_i.\n",
    "\n",
    "When stacking the cubes, you can only pick up either the leftmost or the rightmost cube each time. Print \"Yes\" if it is possible to stack the cubes. Otherwise, print \"No\". Do not print the quotation marks."
   ]
  },
  {
   "cell_type": "code",
   "execution_count": null,
   "metadata": {},
   "outputs": [],
   "source": [
    "# python 2\n",
    "\n",
    "from __future__ import print_function\n",
    "\n",
    "for i in range(int(raw_input())):\n",
    "    input()\n",
    "    pile_list=map(int,raw_input().split())\n",
    "    l=len(pile_list)\n",
    "    count=0\n",
    "    while count<l-1 and pile_list[count]>=pile_list[count+1]:\n",
    "        count+=1\n",
    "\n",
    "    while count<l-1 and pile_list[count]<=pile_list[count+1]:\n",
    "        count+=1\n",
    "\n",
    "    print('Yes' if count==l-1 else 'No')"
   ]
  },
  {
   "cell_type": "code",
   "execution_count": null,
   "metadata": {},
   "outputs": [],
   "source": [
    "# python 3\n",
    "\n",
    "for i in range(int(input())):\n",
    "    input()\n",
    "    lst=list(map(int,input().split()))\n",
    "    l=len(lst)\n",
    "    j=0\n",
    "\n",
    "    while j<l-1 and lst[j]>lst[j+1]:\n",
    "        j+=1\n",
    "    while j<l-1 and lst[j]<lst[j+1]:\n",
    "        j+=1\n",
    "\n",
    "    print('Yes' if j==l-1 else 'No')"
   ]
  },
  {
   "cell_type": "code",
   "execution_count": null,
   "metadata": {},
   "outputs": [],
   "source": [
    "# python 3\n",
    "\n",
    "from collections import deque\n",
    "\n",
    "for _ in range(int(input())):\n",
    "    input()\n",
    "    sideLen=deque(map(int,input().strip().split()))\n",
    "    results='Yes'\n",
    "\n",
    "    if max(sideLen) not in (sideLen[0],sideLen[-1]):\n",
    "        results='No'\n",
    "\n",
    "    print(results)"
   ]
  }
 ],
 "metadata": {
  "kernelspec": {
   "display_name": "Python 2",
   "language": "python",
   "name": "python2"
  },
  "language_info": {
   "codemirror_mode": {
    "name": "ipython",
    "version": 2
   },
   "file_extension": ".py",
   "mimetype": "text/x-python",
   "name": "python",
   "nbconvert_exporter": "python",
   "pygments_lexer": "ipython2",
   "version": "2.7.15"
  }
 },
 "nbformat": 4,
 "nbformat_minor": 2
}
