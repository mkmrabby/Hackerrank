{
 "cells": [
  {
   "cell_type": "markdown",
   "metadata": {},
   "source": [
    "# Symmetric Difference"
   ]
  },
  {
   "cell_type": "markdown",
   "metadata": {},
   "source": [
    "Objective\n",
    "Today, we're learning about a new data type: sets."
   ]
  },
  {
   "cell_type": "markdown",
   "metadata": {},
   "source": [
    "Objective\n",
    "Today, we're learning about a new data type: sets.\n",
    "\n",
    "Concept\n",
    "\n",
    "If the inputs are given on one line separated by a space character, use split() to get the separate values in the form of a list:\n",
    "\n",
    ">> a = raw_input()\n",
    "5 4 3 2\n",
    ">> lis = a.split()\n",
    ">> print (lis)\n",
    "['5', '4', '3', '2']\n",
    "\n",
    "If the list values are all integer types, use the map() method to convert all the strings to integers.\n",
    "\n",
    ">> newlis = list(map(int, lis))\n",
    ">> print (newlis)\n",
    "[5, 4, 3, 2]\n",
    "Sets are an unordered bag of unique values. A single set contains values of any immutable data type.\n",
    "\n",
    "CREATING SETS\n",
    "\n",
    ">> myset = {1, 2} # Directly assigning values to a set\n",
    ">> myset = set()  # Initializing a set\n",
    ">> myset = set(['a', 'b']) # Creating a set from a list\n",
    ">> myset\n",
    "{'a', 'b'}\n",
    "\n",
    "MODIFYING SETS\n",
    "\n",
    "Using the add() function:\n",
    "\n",
    ">> myset.add('c')\n",
    ">> myset\n",
    "{'a', 'c', 'b'}\n",
    ">> myset.add('a') # As 'a' already exists in the set, nothing happens\n",
    ">> myset.add((5, 4))\n",
    ">> myset\n",
    "{'a', 'c', 'b', (5, 4)}\n",
    "\n",
    "Using the update() function:\n",
    "\n",
    ">> myset.update([1, 2, 3, 4]) # update() only works for iterable objects\n",
    ">> myset\n",
    "{'a', 1, 'c', 'b', 4, 2, (5, 4), 3}\n",
    ">> myset.update({1, 7, 8})\n",
    ">> myset\n",
    "{'a', 1, 'c', 'b', 4, 7, 8, 2, (5, 4), 3}\n",
    ">> myset.update({1, 6}, [5, 13])\n",
    ">> myset\n",
    "{'a', 1, 'c', 'b', 4, 5, 6, 7, 8, 2, (5, 4), 13, 3}\n",
    "\n",
    "REMOVING ITEMS\n",
    "\n",
    "Both the discard() and remove() functions take a single value as an argument and removes that value from the set. If that value is not present, discard() does nothing, but remove() will raise a KeyError exception.\n",
    "\n",
    ">> myset.discard(10)\n",
    ">> myset\n",
    "{'a', 1, 'c', 'b', 4, 5, 7, 8, 2, 12, (5, 4), 13, 11, 3}\n",
    ">> myset.remove(13)\n",
    ">> myset\n",
    "{'a', 1, 'c', 'b', 4, 5, 7, 8, 2, 12, (5, 4), 11, 3}\n",
    "\n",
    "COMMON SET OPERATIONS Using union(), intersection() and difference() functions.\n",
    "\n",
    ">> a = {2, 4, 5, 9}\n",
    ">> b = {2, 4, 11, 12}\n",
    ">> a.union(b) # Values which exist in a or b\n",
    "{2, 4, 5, 9, 11, 12}\n",
    ">> a.intersection(b) # Values which exist in a and b\n",
    "{2, 4}\n",
    ">> a.difference(b) # Values which exist in a but not in b\n",
    "{9, 5}\n",
    "\n",
    "The union() and intersection() functions are symmetric methods:\n",
    "\n",
    ">> a.union(b) == b.union(a)\n",
    "True\n",
    ">> a.intersection(b) == b.intersection(a)\n",
    "True\n",
    ">> a.difference(b) == b.difference(a)\n",
    "False\n",
    "\n",
    "These other built-in data structures in Python are also useful."
   ]
  },
  {
   "cell_type": "markdown",
   "metadata": {},
   "source": [
    "Task\n",
    "Given  sets of integers, M and N, print their symmetric difference in ascending order. The term symmetric difference indicates those values that exist in either M or N but do not exist in both."
   ]
  },
  {
   "cell_type": "code",
   "execution_count": null,
   "metadata": {},
   "outputs": [],
   "source": [
    "# python 2\n",
    "\n",
    "from __future__ import print_function\n",
    "\n",
    "raw_input()\n",
    "a=set(map(int,raw_input().split()))\n",
    "raw_input()\n",
    "b=set(map(int,raw_input().split()))\n",
    "\n",
    "for i in sorted(a^b):\n",
    "    print(i)"
   ]
  },
  {
   "cell_type": "code",
   "execution_count": null,
   "metadata": {},
   "outputs": [],
   "source": [
    "# python 2\n",
    "from __future__ import print_function\n",
    "\n",
    "a, b= [set(raw_input().split()) for _ in range(4)][1::2]\n",
    "\n",
    "print('\\n'.join(sorted(a^b,key=int)))"
   ]
  },
  {
   "cell_type": "code",
   "execution_count": null,
   "metadata": {},
   "outputs": [],
   "source": [
    "# python 3\n",
    "\n",
    "a, b= [set(input().split()) for _ in range(4)][1::2]\n",
    "print('\\n'.join(sorted(a^b,key=int)))"
   ]
  }
 ],
 "metadata": {
  "kernelspec": {
   "display_name": "Python 3",
   "language": "python",
   "name": "python3"
  },
  "language_info": {
   "codemirror_mode": {
    "name": "ipython",
    "version": 3
   },
   "file_extension": ".py",
   "mimetype": "text/x-python",
   "name": "python",
   "nbconvert_exporter": "python",
   "pygments_lexer": "ipython3",
   "version": "3.6.5"
  }
 },
 "nbformat": 4,
 "nbformat_minor": 2
}
