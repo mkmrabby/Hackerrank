{
 "cells": [
  {
   "cell_type": "markdown",
   "metadata": {},
   "source": [
    "# Compress the String!"
   ]
  },
  {
   "cell_type": "markdown",
   "metadata": {},
   "source": [
    "In this task, we would like for you to appreciate the usefulness of the groupby() function of itertools . To read more about this function, Check this out .\n",
    "\n",
    "You are given a string S. Suppose a character 'c' occurs consecutively X times in the string. Replace these consecutive occurrences of the character 'c' with (X,c) in the string.\n",
    "\n",
    "For a better understanding of the problem, check the explanation.\n",
    "\n",
    "Input Format\n",
    "\n",
    "A single line of input consisting of the string S.\n",
    "\n",
    "Output Format\n",
    "\n",
    "A single line of output consisting of the modified string."
   ]
  },
  {
   "cell_type": "code",
   "execution_count": 4,
   "metadata": {},
   "outputs": [],
   "source": [
    "# python 2\n",
    "\n",
    "from __future__ import print_function\n",
    "from itertools import groupby\n",
    "\n",
    "print(*[(len(list(c)), int(i)) for i,c in groupby(raw_input())])"
   ]
  },
  {
   "cell_type": "code",
   "execution_count": null,
   "metadata": {},
   "outputs": [],
   "source": [
    "# python 3\n",
    "\n",
    "from itertools import groupby\n",
    "\n",
    "print(*[(len(list(c)), int(i)) for i,c in groupby(input())])"
   ]
  }
 ],
 "metadata": {
  "kernelspec": {
   "display_name": "Python 3",
   "language": "python",
   "name": "python3"
  },
  "language_info": {
   "codemirror_mode": {
    "name": "ipython",
    "version": 3
   },
   "file_extension": ".py",
   "mimetype": "text/x-python",
   "name": "python",
   "nbconvert_exporter": "python",
   "pygments_lexer": "ipython3",
   "version": "3.6.5"
  }
 },
 "nbformat": 4,
 "nbformat_minor": 2
}
