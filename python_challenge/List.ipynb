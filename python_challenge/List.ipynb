{
 "cells": [
  {
   "cell_type": "markdown",
   "metadata": {},
   "source": [
    "# Lists"
   ]
  },
  {
   "cell_type": "markdown",
   "metadata": {},
   "source": [
    "Consider a list (list = []). You can perform the following commands:\n",
    "\n",
    "1. insert i e: Insert integer  at position .\n",
    "\n",
    "2. print: Print the list.\n",
    "\n",
    "3. remove e: Delete the first occurrence of integer .\n",
    "\n",
    "4. append e: Insert integer  at the end of the list.\n",
    "\n",
    "5. sort: Sort the list.\n",
    "\n",
    "6. pop: Pop the last element from the list.\n",
    "\n",
    "7. reverse: Reverse the list.\n",
    "\n",
    "Initialize your list and read in the value of  followed by  lines of commands where each command will be of the  types listed above. Iterate through each command in order and perform the corresponding operation on your list."
   ]
  },
  {
   "cell_type": "markdown",
   "metadata": {},
   "source": [
    "### Input Format\n",
    "\n",
    "The first line contains an integer, , denoting the number of commands.\n",
    "Each line  of the  subsequent lines contains one of the commands described above.\n",
    "\n",
    "### Constraints\n",
    "\n",
    "The elements added to the list must be integers.\n",
    "\n",
    "### Output Format\n",
    "\n",
    "For each command of type print, print the list on a new line."
   ]
  },
  {
   "cell_type": "code",
   "execution_count": null,
   "metadata": {},
   "outputs": [],
   "source": [
    "## Python 2\n",
    "\n",
    "from __future__ import print_function\n",
    "\n",
    "if __name__ == '__main__':\n",
    "    N = int(raw_input())\n",
    "    list=[]\n",
    "\n",
    "    for _ in range(0,N):\n",
    "        s=raw_input().split()\n",
    "        cmd=s[0]\n",
    "        args=s[1:]\n",
    "\n",
    "        if cmd!=\"print\":\n",
    "            cmd+=\"(\"+\",\".join(args)+\")\"\n",
    "            eval(\"list.\"+cmd)\n",
    "        else:\n",
    "            print (list)"
   ]
  },
  {
   "cell_type": "code",
   "execution_count": null,
   "metadata": {},
   "outputs": [],
   "source": [
    "## Python 3\n",
    "\n",
    "from __future__ import print_function\n",
    "\n",
    "if __name__ == '__main__':\n",
    "    N = int(input())\n",
    "    list=[]\n",
    "\n",
    "    for _ in range(0,N):\n",
    "        s=input().split()\n",
    "        cmd=s[0]\n",
    "        args=s[1:]\n",
    "\n",
    "        if cmd!=\"print\":\n",
    "            cmd+=\"(\"+\",\".join(args)+\")\"\n",
    "            eval(\"list.\"+cmd)\n",
    "        else:\n",
    "            print (list)"
   ]
  }
 ],
 "metadata": {
  "kernelspec": {
   "display_name": "Python 2",
   "language": "python",
   "name": "python2"
  },
  "language_info": {
   "codemirror_mode": {
    "name": "ipython",
    "version": 2
   },
   "file_extension": ".py",
   "mimetype": "text/x-python",
   "name": "python",
   "nbconvert_exporter": "python",
   "pygments_lexer": "ipython2",
   "version": "2.7.15"
  }
 },
 "nbformat": 4,
 "nbformat_minor": 2
}
