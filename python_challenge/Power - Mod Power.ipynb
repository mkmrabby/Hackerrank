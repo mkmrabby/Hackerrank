{
 "cells": [
  {
   "cell_type": "markdown",
   "metadata": {},
   "source": [
    "# Power - Mod Power"
   ]
  },
  {
   "cell_type": "markdown",
   "metadata": {},
   "source": [
    "So far, we have only heard of Python's powers. Now, we will witness them!\n",
    "\n",
    "Powers or exponents in Python can be calculated using the built-in power function. Call the power function a^b as shown below:\n",
    "\n",
    "\n",
    ">>> pow(a,b) \n",
    "or\n",
    "\n",
    "\n",
    ">>> a**b\n",
    "It's also possible to calculate a^b mod m.\n",
    "\n",
    "\n",
    ">>> pow(a,b,m)  \n",
    "This is very helpful in computations where you have to print the resultant % mod m.\n",
    "\n",
    "\n",
    "Note: Here,  and  can be floats or negatives, but, if a third argument is present, b cannot be negative.\n",
    "\n",
    "\n",
    "Note: Python has a math module that has its own pow(). It takes two arguments and returns a float. Frankly speaking, we will never use math.pow().\n",
    "\n",
    "\n",
    "Task\n",
    "\n",
    "You are given three integers: a, b, and m, respectively. Print two lines.\n",
    "The first line should print the result of pow(a,b). The second line should print the result of pow(a,b,m)."
   ]
  },
  {
   "cell_type": "code",
   "execution_count": 4,
   "metadata": {},
   "outputs": [],
   "source": [
    "# python 2\n",
    "\n",
    "from __future__ import print_function\n",
    "\n",
    "a=int(raw_input())\n",
    "b=int(raw_input())\n",
    "m=int(raw_input())\n",
    "\n",
    "print(pow(a,b))\n",
    "print(pow(a,b,m))"
   ]
  },
  {
   "cell_type": "code",
   "execution_count": null,
   "metadata": {},
   "outputs": [],
   "source": [
    "# python 3\n",
    "\n",
    "a, b, m=[int(input()) for _ in '123']\n",
    "\n",
    "print(pow(a,b),pow(a, b, m), sep='\\n')"
   ]
  }
 ],
 "metadata": {
  "kernelspec": {
   "display_name": "Python 3",
   "language": "python",
   "name": "python3"
  },
  "language_info": {
   "codemirror_mode": {
    "name": "ipython",
    "version": 3
   },
   "file_extension": ".py",
   "mimetype": "text/x-python",
   "name": "python",
   "nbconvert_exporter": "python",
   "pygments_lexer": "ipython3",
   "version": "3.6.5"
  }
 },
 "nbformat": 4,
 "nbformat_minor": 2
}
