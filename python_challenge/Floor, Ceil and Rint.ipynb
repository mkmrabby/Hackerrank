{
 "cells": [
  {
   "cell_type": "markdown",
   "metadata": {},
   "source": [
    "# Floor, Ceil and Rint"
   ]
  },
  {
   "cell_type": "markdown",
   "metadata": {},
   "source": [
    "### floor\n",
    "\n",
    "The tool floor returns the floor of the input element-wise.\n",
    "The floor of x is the largest integer  where i<=x.\n",
    "\n",
    "import numpy\n",
    "\n",
    "my_array = numpy.array([1.1, 2.2, 3.3, 4.4, 5.5, 6.6, 7.7, 8.8, 9.9])\n",
    "\n",
    "print numpy.floor(my_array)         #[ 1.  2.  3.  4.  5.  6.  7.  8.  9.]\n",
    "\n",
    "### ceil\n",
    "\n",
    "The tool ceil returns the ceiling of the input element-wise.\n",
    "The ceiling of x is the smallest integer i where i>=x.\n",
    "\n",
    "import numpy\n",
    "\n",
    "my_array = numpy.array([1.1, 2.2, 3.3, 4.4, 5.5, 6.6, 7.7, 8.8, 9.9])\n",
    "\n",
    "print numpy.ceil(my_array)          #[  2.   3.   4.   5.   6.   7.   8.   9.  10.]\n",
    "\n",
    "### rint\n",
    "\n",
    "The rint tool rounds to the nearest integer of input element-wise.\n",
    "\n",
    "import numpy\n",
    "\n",
    "my_array = numpy.array([1.1, 2.2, 3.3, 4.4, 5.5, 6.6, 7.7, 8.8, 9.9])\n",
    "\n",
    "print numpy.rint(my_array)          #[  1.   2.   3.   4.   6.   7.   8.   9.  10.]\n",
    "\n",
    "Task\n",
    "You are given a 1-D array, A. Your task is to print the floor, ceil and rint of all the elements of A.\n",
    "\n",
    "### Input Format\n",
    "\n",
    "A single line of input containing the space separated elements of array A.\n",
    "\n",
    "### Output Format\n",
    "\n",
    "On the first line, print the floor of A.\n",
    "On the second line, print the ceil of A.\n",
    "On the third line, print the rint of A.\n",
    "\n",
    "### Sample Input\n",
    "\n",
    "1.1 2.2 3.3 4.4 5.5 6.6 7.7 8.8 9.9\n",
    "\n",
    "Sample Output\n",
    "\n",
    "[ 1.  2.  3.  4.  5.  6.  7.  8.  9.]\n",
    "\n",
    "[  2.   3.   4.   5.   6.   7.   8.   9.  10.]\n",
    "\n",
    "[  1.   2.   3.   4.   6.   7.   8.   9.  10.]"
   ]
  },
  {
   "cell_type": "code",
   "execution_count": 6,
   "metadata": {},
   "outputs": [],
   "source": [
    "# python 2\n",
    "\n",
    "import numpy as np\n",
    "\n",
    "np.set_printoptions(sign=' ')\n",
    "\n",
    "A=np.array(raw_input().split(),float)\n",
    "print np.floor(A)\n",
    "print np.ceil(A)\n",
    "print np.rint(A)"
   ]
  },
  {
   "cell_type": "code",
   "execution_count": null,
   "metadata": {},
   "outputs": [],
   "source": [
    "# python 3\n",
    "\n",
    "import numpy as np\n",
    "\n",
    "np.set_printoptions(sign=' ')\n",
    "\n",
    "A=np.array(input().split(),float)\n",
    "print(np.floor(A))\n",
    "print(np.ceil(A))\n",
    "print(np.rint(A))"
   ]
  }
 ],
 "metadata": {
  "kernelspec": {
   "display_name": "Python 2",
   "language": "python",
   "name": "python2"
  },
  "language_info": {
   "codemirror_mode": {
    "name": "ipython",
    "version": 2
   },
   "file_extension": ".py",
   "mimetype": "text/x-python",
   "name": "python",
   "nbconvert_exporter": "python",
   "pygments_lexer": "ipython2",
   "version": "2.7.15"
  }
 },
 "nbformat": 4,
 "nbformat_minor": 2
}
