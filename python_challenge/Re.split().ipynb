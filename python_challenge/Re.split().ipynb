{
 "cells": [
  {
   "cell_type": "markdown",
   "metadata": {},
   "source": [
    "# Re.split()"
   ]
  },
  {
   "cell_type": "markdown",
   "metadata": {},
   "source": [
    "Check Tutorial tab to know how to to solve.\n",
    "\n",
    "You are given a string s consisting only of digits 0-9, commas ,, and dots .\n",
    "\n",
    "Your task is to complete the regex_pattern defined below, which will be used to re.split() all of the , and . symbols in s.\n",
    "\n",
    "It’s guaranteed that every comma and every dot in s is preceeded and followed by a digit.\n",
    "\n",
    "### Sample Input 0\n",
    "\n",
    "100,000,000.000\n",
    "\n",
    "### Sample Output 0\n",
    "\n",
    "100\n",
    "\n",
    "000\n",
    "\n",
    "000\n",
    "\n",
    "000"
   ]
  },
  {
   "cell_type": "code",
   "execution_count": 3,
   "metadata": {},
   "outputs": [
    {
     "name": "stdout",
     "output_type": "stream",
     "text": [
      "100,000,000.000\n",
      "100\n",
      "000\n",
      "000\n",
      "000\n"
     ]
    }
   ],
   "source": [
    "# python 2\n",
    "\n",
    "regex_pattern = r\"[, .]\"\t# Do not delete 'r'.\n",
    "\n",
    "import re\n",
    "print(\"\\n\".join(re.split(regex_pattern, raw_input())))"
   ]
  },
  {
   "cell_type": "code",
   "execution_count": null,
   "metadata": {},
   "outputs": [],
   "source": [
    "# python 3\n",
    "\n",
    "regex_pattern = r\"[, .]\"\t# Do not delete 'r'.\n",
    "\n",
    "import re\n",
    "print(\"\\n\".join(re.split(regex_pattern, input())))"
   ]
  }
 ],
 "metadata": {
  "kernelspec": {
   "display_name": "Python 2",
   "language": "python",
   "name": "python2"
  },
  "language_info": {
   "codemirror_mode": {
    "name": "ipython",
    "version": 2
   },
   "file_extension": ".py",
   "mimetype": "text/x-python",
   "name": "python",
   "nbconvert_exporter": "python",
   "pygments_lexer": "ipython2",
   "version": "2.7.15"
  }
 },
 "nbformat": 4,
 "nbformat_minor": 2
}
