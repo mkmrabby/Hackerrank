{
 "cells": [
  {
   "cell_type": "markdown",
   "metadata": {},
   "source": [
    "# Find Angle MBC"
   ]
  },
  {
   "cell_type": "markdown",
   "metadata": {},
   "source": [
    "Input Format\n",
    "\n",
    "In a right angle triangle, the first line contains the length of side AB.\n",
    "The second line contains the length of side BC.\n",
    "\n",
    "Findout MBC"
   ]
  },
  {
   "cell_type": "code",
   "execution_count": 4,
   "metadata": {},
   "outputs": [],
   "source": [
    "# python 2\n",
    "\n",
    "from __future__ import print_function\n",
    "import math\n",
    "\n",
    "degree= u'\\N{DEGREE SIGN}'\n",
    "AB=float(raw_input())\n",
    "BC=float(raw_input())\n",
    "\n",
    "MCB=math.degrees(math.atan2(AB,BC))\n",
    "print(str(90-int(round(MCB))),degree,sep='')"
   ]
  },
  {
   "cell_type": "code",
   "execution_count": null,
   "metadata": {},
   "outputs": [],
   "source": [
    "# python 3\n",
    "\n",
    "import math\n",
    "\n",
    "degree=u'\\N{DEGREE SIGN}'\n",
    "\n",
    "AB=float(input())\n",
    "BC=float(input())\n",
    "\n",
    "MBC=90-int(round(math.degrees(math.atan2(AB,BC))))\n",
    "print(str(MBC)+degree)"
   ]
  },
  {
   "cell_type": "markdown",
   "metadata": {},
   "source": [
    "The question has some problem. I think the question would be MCB instead of MBC and hence the output will be as below:"
   ]
  },
  {
   "cell_type": "code",
   "execution_count": null,
   "metadata": {},
   "outputs": [],
   "source": [
    "# python 2\n",
    "MCB=int(round(math.degrees(math.atan2(AB,BC))))\n",
    "print(str(int(round(MCB))),degree,sep='')"
   ]
  },
  {
   "cell_type": "code",
   "execution_count": null,
   "metadata": {},
   "outputs": [],
   "source": [
    "# python 3\n",
    "\n",
    "MCB=int(round(math.degrees(math.atan2(AB,BC))))\n",
    "print(str(MCB)+degree)"
   ]
  }
 ],
 "metadata": {
  "kernelspec": {
   "display_name": "Python 3",
   "language": "python",
   "name": "python3"
  },
  "language_info": {
   "codemirror_mode": {
    "name": "ipython",
    "version": 3
   },
   "file_extension": ".py",
   "mimetype": "text/x-python",
   "name": "python",
   "nbconvert_exporter": "python",
   "pygments_lexer": "ipython3",
   "version": "3.6.5"
  }
 },
 "nbformat": 4,
 "nbformat_minor": 2
}
