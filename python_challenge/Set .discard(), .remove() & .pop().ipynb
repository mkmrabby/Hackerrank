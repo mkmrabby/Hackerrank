{
 "cells": [
  {
   "cell_type": "markdown",
   "metadata": {},
   "source": [
    "# Set .discard(), .remove() & .pop()"
   ]
  },
  {
   "cell_type": "markdown",
   "metadata": {},
   "source": [
    ".remove(x)\n",
    "This operation removes element  from the set.\n",
    "If element  does not exist, it raises a KeyError.\n",
    "The .remove(x) operation returns None.\n",
    "\n",
    "Example\n",
    "\n",
    ">>> s = set([1, 2, 3, 4, 5, 6, 7, 8, 9])\n",
    ">>> s.remove(5)\n",
    ">>> print s\n",
    "set([1, 2, 3, 4, 6, 7, 8, 9])\n",
    ">>> print s.remove(4)\n",
    "None\n",
    ">>> print s\n",
    "set([1, 2, 3, 6, 7, 8, 9])\n",
    ">>> s.remove(0)\n",
    "KeyError: 0\n",
    ".discard(x)\n",
    "This operation also removes element  from the set.\n",
    "If element  does not exist, it does not raise a KeyError.\n",
    "The .discard(x) operation returns None.\n",
    "\n",
    "Example\n",
    "\n",
    ">>> s = set([1, 2, 3, 4, 5, 6, 7, 8, 9])\n",
    ">>> s.discard(5)\n",
    ">>> print s\n",
    "set([1, 2, 3, 4, 6, 7, 8, 9])\n",
    ">>> print s.discard(4)\n",
    "None\n",
    ">>> print s\n",
    "set([1, 2, 3, 6, 7, 8, 9])\n",
    ">>> s.discard(0)\n",
    ">>> print s\n",
    "set([1, 2, 3, 6, 7, 8, 9])\n",
    ".pop()\n",
    "This operation removes and return an arbitrary element from the set.\n",
    "If there are no elements to remove, it raises a KeyError.\n",
    "\n",
    "Example\n",
    "\n",
    ">>> s = set([1])\n",
    ">>> print s.pop()\n",
    "1\n",
    ">>> print s\n",
    "set([])\n",
    ">>> print s.pop()\n",
    "KeyError: pop from an empty set"
   ]
  },
  {
   "cell_type": "markdown",
   "metadata": {},
   "source": [
    "Task\n",
    "\n",
    "You have a non-empty set s, and you have to execute N commands given in N lines.\n",
    "\n",
    "The commands will be pop, remove and discard."
   ]
  },
  {
   "cell_type": "code",
   "execution_count": 4,
   "metadata": {},
   "outputs": [],
   "source": [
    "# python 2\n",
    "\n",
    "from __future__ import print_function\n",
    "\n",
    "n = raw_input()\n",
    "s = set(map(int, raw_input().split()))\n",
    "\n",
    "for _ in range(int(raw_input())):\n",
    "    opt=list(raw_input().split())\n",
    "    eval('s.{0}({1})'.format(*opt+['']))\n",
    "\n",
    "print(sum(s))"
   ]
  },
  {
   "cell_type": "code",
   "execution_count": null,
   "metadata": {},
   "outputs": [],
   "source": [
    "# python 3\n",
    "\n",
    "n = input()\n",
    "s = set(map(int, input().split()))\n",
    "\n",
    "for _ in range(int(input())):\n",
    "    opt=list(input().split())\n",
    "    eval('s.{0}({1})'.format(*opt+['']))\n",
    "\n",
    "print(sum(s))"
   ]
  }
 ],
 "metadata": {
  "kernelspec": {
   "display_name": "Python 3",
   "language": "python",
   "name": "python3"
  },
  "language_info": {
   "codemirror_mode": {
    "name": "ipython",
    "version": 3
   },
   "file_extension": ".py",
   "mimetype": "text/x-python",
   "name": "python",
   "nbconvert_exporter": "python",
   "pygments_lexer": "ipython3",
   "version": "3.6.5"
  }
 },
 "nbformat": 4,
 "nbformat_minor": 2
}
